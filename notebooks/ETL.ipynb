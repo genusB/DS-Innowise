{
 "cells": [
  {
   "cell_type": "code",
   "execution_count": 58,
   "id": "fc911d00",
   "metadata": {},
   "outputs": [],
   "source": [
    "import pandas as pd\n",
    "import numpy as np\n",
    "import string\n",
    "import os\n",
    "\n",
    "import warnings\n",
    "warnings.simplefilter(action='ignore', category=FutureWarning)"
   ]
  },
  {
   "cell_type": "code",
   "execution_count": 59,
   "id": "ac96d8d6",
   "metadata": {},
   "outputs": [],
   "source": [
    "def extract_csv_from_folder(folder_name: str) -> dict[str, str]:\n",
    "    for root, dirs, files in os.walk(folder_name, topdown=False):\n",
    "        df_paths: dict = {file: f'{root}/{file}' for file in files if file.endswith('csv')}\n",
    "    return df_paths"
   ]
  },
  {
   "cell_type": "code",
   "execution_count": 60,
   "id": "fe986923",
   "metadata": {},
   "outputs": [
    {
     "data": {
      "text/plain": [
       "{'sales_train.csv': 'competitive-data-science-predict-future-sales/raw/sales_train.csv',\n",
       " 'shops.csv': 'competitive-data-science-predict-future-sales/raw/shops.csv',\n",
       " 'test.csv': 'competitive-data-science-predict-future-sales/raw/test.csv',\n",
       " 'item_categories.csv': 'competitive-data-science-predict-future-sales/raw/item_categories.csv',\n",
       " 'items.csv': 'competitive-data-science-predict-future-sales/raw/items.csv',\n",
       " 'sample_submission.csv': 'competitive-data-science-predict-future-sales/raw/sample_submission.csv'}"
      ]
     },
     "execution_count": 60,
     "metadata": {},
     "output_type": "execute_result"
    }
   ],
   "source": [
    "df_paths = extract_csv_from_folder('competitive-data-science-predict-future-sales/raw')\n",
    "df_paths"
   ]
  },
  {
   "cell_type": "code",
   "execution_count": 61,
   "id": "bcb95711",
   "metadata": {},
   "outputs": [],
   "source": [
    "def load_data(df_paths: dict[str, str]) -> dict[str, pd.DataFrame]:\n",
    "    data: dict[str, pd.DataFrame] = {}\n",
    "    \n",
    "    for filename, path in df_paths.items():\n",
    "        data[filename] = pd.read_csv(path)\n",
    "        \n",
    "    return data"
   ]
  },
  {
   "cell_type": "code",
   "execution_count": 62,
   "id": "f7900ded",
   "metadata": {},
   "outputs": [],
   "source": [
    "data = load_data(df_paths)"
   ]
  },
  {
   "cell_type": "code",
   "execution_count": 63,
   "id": "ac08c3fe",
   "metadata": {},
   "outputs": [],
   "source": [
    "sales_train = data['sales_train.csv'].copy()\n",
    "shops = data['shops.csv'].copy()\n",
    "test = data['test.csv'].copy()\n",
    "item_categories = data['item_categories.csv'].copy()\n",
    "items = data['items.csv'].copy()"
   ]
  },
  {
   "cell_type": "code",
   "execution_count": 64,
   "id": "64c2909b",
   "metadata": {},
   "outputs": [],
   "source": [
    "del data"
   ]
  },
  {
   "cell_type": "code",
   "execution_count": null,
   "id": "65d1e8c0",
   "metadata": {},
   "outputs": [],
   "source": []
  },
  {
   "cell_type": "markdown",
   "id": "aa5f2f9d",
   "metadata": {},
   "source": [
    "Perform the same filtrations as we did in the DQC"
   ]
  },
  {
   "cell_type": "code",
   "execution_count": 67,
   "id": "913cbf33",
   "metadata": {},
   "outputs": [],
   "source": [
    "sales_train.date = pd.to_datetime(sales_train.date)"
   ]
  },
  {
   "cell_type": "code",
   "execution_count": 68,
   "id": "7c239cb9",
   "metadata": {},
   "outputs": [],
   "source": [
    "sales_train['month'] = sales_train.date.dt.to_period('M')"
   ]
  },
  {
   "cell_type": "code",
   "execution_count": 69,
   "id": "f0aa4357",
   "metadata": {},
   "outputs": [],
   "source": [
    "sales_train = sales_train[sales_train.item_cnt_day > -2]"
   ]
  },
  {
   "cell_type": "code",
   "execution_count": 70,
   "id": "59f66d7d",
   "metadata": {},
   "outputs": [],
   "source": [
    "sales_train = sales_train[sales_train.month < '2015-11']"
   ]
  },
  {
   "cell_type": "code",
   "execution_count": null,
   "id": "281d5f63",
   "metadata": {},
   "outputs": [],
   "source": []
  },
  {
   "cell_type": "code",
   "execution_count": 71,
   "id": "f9837f66",
   "metadata": {},
   "outputs": [],
   "source": [
    "shops = shops[shops.shop_id != 10]"
   ]
  },
  {
   "cell_type": "code",
   "execution_count": 72,
   "id": "efaa722f",
   "metadata": {},
   "outputs": [],
   "source": [
    "sales_train.loc[sales_train.shop_id == 10, 'shop_id'] = 11"
   ]
  },
  {
   "cell_type": "code",
   "execution_count": 73,
   "id": "02058fd7",
   "metadata": {},
   "outputs": [],
   "source": [
    "shops.shop_name = shops.shop_name.map(lambda x: x.lstrip('!'))"
   ]
  },
  {
   "cell_type": "code",
   "execution_count": 74,
   "id": "3b513231",
   "metadata": {},
   "outputs": [],
   "source": [
    "shops[['city', 'shop_name']] = shops['shop_name'].str.split(' ', n=1, expand=True)"
   ]
  },
  {
   "cell_type": "code",
   "execution_count": null,
   "id": "2f92fcb0",
   "metadata": {},
   "outputs": [],
   "source": []
  },
  {
   "cell_type": "code",
   "execution_count": 75,
   "id": "adb4cea6",
   "metadata": {},
   "outputs": [],
   "source": [
    "sales_train = sales_train.drop_duplicates(\n",
    "    subset=['date', 'date_block_num', 'shop_id', 'item_id', 'item_price', 'item_cnt_day'], \n",
    "    keep='last')"
   ]
  },
  {
   "cell_type": "code",
   "execution_count": null,
   "id": "2b7bdc9c",
   "metadata": {},
   "outputs": [],
   "source": []
  },
  {
   "cell_type": "code",
   "execution_count": 76,
   "id": "36279725",
   "metadata": {},
   "outputs": [],
   "source": [
    "test.loc[test.shop_id == 10, 'shop_id'] = 11"
   ]
  },
  {
   "cell_type": "code",
   "execution_count": null,
   "id": "85f007c9",
   "metadata": {},
   "outputs": [],
   "source": []
  },
  {
   "cell_type": "code",
   "execution_count": 77,
   "id": "03e09409",
   "metadata": {},
   "outputs": [],
   "source": [
    "items.item_name = items.item_name.map(lambda x: x.lstrip('!*/'))"
   ]
  },
  {
   "cell_type": "code",
   "execution_count": null,
   "id": "b3e3b870",
   "metadata": {},
   "outputs": [],
   "source": []
  },
  {
   "cell_type": "code",
   "execution_count": 78,
   "id": "27f6f37b",
   "metadata": {},
   "outputs": [],
   "source": [
    "same_items_regargless_case = items[items.item_name.map(lambda x: x.lower()).duplicated()]"
   ]
  },
  {
   "cell_type": "code",
   "execution_count": 79,
   "id": "2f08d63e",
   "metadata": {},
   "outputs": [],
   "source": [
    "fully_same = items.groupby(items.item_name, as_index=False).size().query('size > 1')"
   ]
  },
  {
   "cell_type": "code",
   "execution_count": 80,
   "id": "234080ae",
   "metadata": {},
   "outputs": [],
   "source": [
    "fully_same_item_names = fully_same.item_name.values"
   ]
  },
  {
   "cell_type": "code",
   "execution_count": 81,
   "id": "c8665411",
   "metadata": {},
   "outputs": [],
   "source": [
    "fully_same_item_ids = items[items.item_name.isin(fully_same_item_names)].item_id.values"
   ]
  },
  {
   "cell_type": "code",
   "execution_count": 82,
   "id": "e7b7073b",
   "metadata": {},
   "outputs": [],
   "source": [
    "items = items[items.item_id != 12]"
   ]
  },
  {
   "cell_type": "code",
   "execution_count": 83,
   "id": "dffa0753",
   "metadata": {},
   "outputs": [],
   "source": [
    "sales_train = sales_train[sales_train.item_id != 12]"
   ]
  },
  {
   "cell_type": "code",
   "execution_count": null,
   "id": "ffee44c6",
   "metadata": {},
   "outputs": [],
   "source": []
  },
  {
   "cell_type": "code",
   "execution_count": 84,
   "id": "0183c71e",
   "metadata": {},
   "outputs": [],
   "source": [
    "same_items_regargless_case_names = same_items_regargless_case[~same_items_regargless_case.item_name.isin(\n",
    "    fully_same_item_names)].item_name"
   ]
  },
  {
   "cell_type": "code",
   "execution_count": 85,
   "id": "9ddea9e3",
   "metadata": {},
   "outputs": [],
   "source": [
    "same_items = items[items.item_name.map(lambda x: x.lower()).isin(\n",
    "                same_items_regargless_case_names.map(lambda x: x.lower()))]"
   ]
  },
  {
   "cell_type": "code",
   "execution_count": 86,
   "id": "271a1ac6",
   "metadata": {},
   "outputs": [],
   "source": [
    "same_items_upper_case = same_items[same_items.item_name.str.endswith('(Регион)')]\n",
    "same_items_lower_case = same_items[same_items.item_name.str.endswith('(регион)')]"
   ]
  },
  {
   "cell_type": "code",
   "execution_count": 87,
   "id": "da9e31d2",
   "metadata": {},
   "outputs": [],
   "source": [
    "assert (len(same_items_upper_case) + len(same_items_lower_case) == len(same_items))"
   ]
  },
  {
   "cell_type": "code",
   "execution_count": 88,
   "id": "218d4a7a",
   "metadata": {},
   "outputs": [],
   "source": [
    "shops_upper_case = sales_train[sales_train.item_id.isin(same_items_upper_case.item_id)].shop_id.unique()\n",
    "shops_lower_case = sales_train[sales_train.item_id.isin(same_items_lower_case.item_id)].shop_id.unique()\n",
    "\n",
    "shops_upper_case.sort()\n",
    "shops_lower_case.sort()"
   ]
  },
  {
   "cell_type": "code",
   "execution_count": 89,
   "id": "083000d1",
   "metadata": {},
   "outputs": [],
   "source": [
    "assert (np.array_equal(shops_upper_case, shops_lower_case))"
   ]
  },
  {
   "cell_type": "code",
   "execution_count": 90,
   "id": "e1cad512",
   "metadata": {},
   "outputs": [],
   "source": [
    "assert (same_items_upper_case.item_id.values == same_items_lower_case.item_id.map(lambda x: x - 1).values).all()"
   ]
  },
  {
   "cell_type": "code",
   "execution_count": 91,
   "id": "375d0ee2",
   "metadata": {},
   "outputs": [],
   "source": [
    "items = items[~items.item_id.isin(same_items_lower_case.item_id)]"
   ]
  },
  {
   "cell_type": "code",
   "execution_count": 92,
   "id": "1c2bca33",
   "metadata": {},
   "outputs": [],
   "source": [
    "sales_train.loc[sales_train.item_id.isin(same_items_lower_case.item_id), 'item_id'] = \\\n",
    "    sales_train[sales_train.item_id.isin(same_items_lower_case.item_id)].item_id.map(lambda x: x - 1)"
   ]
  },
  {
   "cell_type": "code",
   "execution_count": 93,
   "id": "6cd1bd94",
   "metadata": {},
   "outputs": [],
   "source": [
    "test.loc[test.item_id.isin(same_items_lower_case.item_id), 'item_id'] = \\\n",
    "    test[test.item_id.isin(same_items_lower_case.item_id)].item_id.map(lambda x: x - 1)"
   ]
  },
  {
   "cell_type": "code",
   "execution_count": null,
   "id": "ed9d796a",
   "metadata": {},
   "outputs": [],
   "source": []
  },
  {
   "cell_type": "code",
   "execution_count": 94,
   "id": "75997120",
   "metadata": {},
   "outputs": [],
   "source": [
    "items = items[items.item_id != 13012]"
   ]
  },
  {
   "cell_type": "code",
   "execution_count": 95,
   "id": "4d605ab9",
   "metadata": {},
   "outputs": [],
   "source": [
    "sales_train.loc[sales_train.item_id == 13012, 'item_id'] = 13011\n",
    "test.loc[test.item_id == 13012, 'item_id'] = 13011"
   ]
  },
  {
   "cell_type": "code",
   "execution_count": null,
   "id": "2f595e33",
   "metadata": {},
   "outputs": [],
   "source": []
  },
  {
   "cell_type": "code",
   "execution_count": 96,
   "id": "381eac4a",
   "metadata": {},
   "outputs": [],
   "source": [
    "sales_train = pd.merge(sales_train, items, on='item_id', how='inner')\n",
    "sales_train = pd.merge(sales_train, item_categories, on='item_category_id', how='inner')"
   ]
  },
  {
   "cell_type": "code",
   "execution_count": 97,
   "id": "a4bded0e",
   "metadata": {},
   "outputs": [],
   "source": [
    "sales_train = pd.merge(sales_train, shops, on='shop_id', how='inner')"
   ]
  },
  {
   "cell_type": "code",
   "execution_count": 98,
   "id": "999a6605",
   "metadata": {},
   "outputs": [
    {
     "data": {
      "text/plain": [
       "date                  0\n",
       "date_block_num        0\n",
       "shop_id               0\n",
       "item_id               0\n",
       "item_price            0\n",
       "item_cnt_day          0\n",
       "month                 0\n",
       "item_name             0\n",
       "item_category_id      0\n",
       "item_category_name    0\n",
       "shop_name             0\n",
       "city                  0\n",
       "dtype: int64"
      ]
     },
     "execution_count": 98,
     "metadata": {},
     "output_type": "execute_result"
    }
   ],
   "source": [
    "sales_train.isna().sum()"
   ]
  },
  {
   "cell_type": "code",
   "execution_count": 100,
   "id": "38d89bf5",
   "metadata": {},
   "outputs": [],
   "source": [
    "common_path = 'competitive-data-science-predict-future-sales/preprocessed'"
   ]
  },
  {
   "cell_type": "code",
   "execution_count": 103,
   "id": "87d564f3",
   "metadata": {},
   "outputs": [],
   "source": [
    "if not os.path.exists(common_path):\n",
    "    os.mkdir(common_path)"
   ]
  },
  {
   "cell_type": "code",
   "execution_count": 106,
   "id": "b2432ca0",
   "metadata": {},
   "outputs": [],
   "source": [
    "sales_train.to_csv(f'{common_path}/sales_train.csv')\n",
    "shops.to_csv(f'{common_path}/shops.csv')\n",
    "test.to_csv(f'{common_path}/test.csv')\n",
    "item_categories.to_csv(f'{common_path}/item_categories.csv')\n",
    "items.to_csv(f'{common_path}/items.csv')"
   ]
  }
 ],
 "metadata": {
  "kernelspec": {
   "display_name": "Python 3 (ipykernel)",
   "language": "python",
   "name": "python3"
  },
  "language_info": {
   "codemirror_mode": {
    "name": "ipython",
    "version": 3
   },
   "file_extension": ".py",
   "mimetype": "text/x-python",
   "name": "python",
   "nbconvert_exporter": "python",
   "pygments_lexer": "ipython3",
   "version": "3.9.12"
  }
 },
 "nbformat": 4,
 "nbformat_minor": 5
}
