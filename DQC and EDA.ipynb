{
 "cells": [
  {
   "cell_type": "code",
   "execution_count": 1,
   "id": "d0ab388d",
   "metadata": {},
   "outputs": [
    {
     "name": "stderr",
     "output_type": "stream",
     "text": [
      "/Users/jana/opt/anaconda3/lib/python3.9/site-packages/scipy/__init__.py:146: UserWarning: A NumPy version >=1.16.5 and <1.23.0 is required for this version of SciPy (detected version 1.23.5\n",
      "  warnings.warn(f\"A NumPy version >={np_minversion} and <{np_maxversion}\"\n"
     ]
    }
   ],
   "source": [
    "import pandas as pd\n",
    "import numpy as np\n",
    "import matplotlib.pyplot as plt\n",
    "import seaborn as sns\n",
    "import plotly.express as px\n",
    "import plotly.graph_objs as go\n",
    "import os\n",
    "import string\n",
    "from IPython.display import Markdown, display\n",
    "\n",
    "import warnings\n",
    "warnings.simplefilter(action='ignore', category=FutureWarning)\n",
    "\n",
    "sns.set_theme()\n",
    "%matplotlib inline"
   ]
  },
  {
   "cell_type": "markdown",
   "id": "cee85cbe",
   "metadata": {},
   "source": [
    "## Data loading and preview"
   ]
  },
  {
   "cell_type": "code",
   "execution_count": 2,
   "id": "23b44519",
   "metadata": {},
   "outputs": [],
   "source": [
    "def extract_csv_from_folder(folder_name: str) -> dict[str, str]:\n",
    "    for root, dirs, files in os.walk(folder_name, topdown=False):\n",
    "        df_paths: dict = {file: f'{root}/{file}' for file in files if file.endswith('csv')}\n",
    "    return df_paths"
   ]
  },
  {
   "cell_type": "code",
   "execution_count": 3,
   "id": "d3ab9159",
   "metadata": {},
   "outputs": [
    {
     "data": {
      "text/plain": [
       "{'sales_train.csv': 'competitive-data-science-predict-future-sales/sales_train.csv',\n",
       " 'shops.csv': 'competitive-data-science-predict-future-sales/shops.csv',\n",
       " 'test.csv': 'competitive-data-science-predict-future-sales/test.csv',\n",
       " 'item_categories.csv': 'competitive-data-science-predict-future-sales/item_categories.csv',\n",
       " 'items.csv': 'competitive-data-science-predict-future-sales/items.csv',\n",
       " 'sample_submission.csv': 'competitive-data-science-predict-future-sales/sample_submission.csv'}"
      ]
     },
     "execution_count": 3,
     "metadata": {},
     "output_type": "execute_result"
    }
   ],
   "source": [
    "df_paths = extract_csv_from_folder('competitive-data-science-predict-future-sales/raw')\n",
    "df_paths"
   ]
  },
  {
   "cell_type": "code",
   "execution_count": 4,
   "id": "683a4ff1",
   "metadata": {},
   "outputs": [],
   "source": [
    "def load_data(df_paths: dict[str, str]) -> dict[str, pd.DataFrame]:\n",
    "    data: dict[str, pd.DataFrame] = {}\n",
    "    \n",
    "    for filename, path in df_paths.items():\n",
    "        data[filename] = pd.read_csv(path)\n",
    "        \n",
    "    return data"
   ]
  },
  {
   "cell_type": "code",
   "execution_count": 5,
   "id": "6d77168a",
   "metadata": {},
   "outputs": [],
   "source": [
    "data = load_data(df_paths)"
   ]
  },
  {
   "cell_type": "code",
   "execution_count": 6,
   "id": "93255745",
   "metadata": {},
   "outputs": [],
   "source": [
    "def preview_data(data: dict[str, pd.DataFrame], n_head_values: int) -> None:\n",
    "    for filename, df in data.items():\n",
    "        print(filename)\n",
    "        display(df.head(n_head_values))\n",
    "        print()"
   ]
  },
  {
   "cell_type": "code",
   "execution_count": 7,
   "id": "5b1f1801",
   "metadata": {
    "scrolled": true
   },
   "outputs": [
    {
     "name": "stdout",
     "output_type": "stream",
     "text": [
      "sales_train.csv\n"
     ]
    },
    {
     "data": {
      "text/html": [
       "<div>\n",
       "<style scoped>\n",
       "    .dataframe tbody tr th:only-of-type {\n",
       "        vertical-align: middle;\n",
       "    }\n",
       "\n",
       "    .dataframe tbody tr th {\n",
       "        vertical-align: top;\n",
       "    }\n",
       "\n",
       "    .dataframe thead th {\n",
       "        text-align: right;\n",
       "    }\n",
       "</style>\n",
       "<table border=\"1\" class=\"dataframe\">\n",
       "  <thead>\n",
       "    <tr style=\"text-align: right;\">\n",
       "      <th></th>\n",
       "      <th>date</th>\n",
       "      <th>date_block_num</th>\n",
       "      <th>shop_id</th>\n",
       "      <th>item_id</th>\n",
       "      <th>item_price</th>\n",
       "      <th>item_cnt_day</th>\n",
       "    </tr>\n",
       "  </thead>\n",
       "  <tbody>\n",
       "    <tr>\n",
       "      <th>0</th>\n",
       "      <td>02.01.2013</td>\n",
       "      <td>0</td>\n",
       "      <td>59</td>\n",
       "      <td>22154</td>\n",
       "      <td>999.00</td>\n",
       "      <td>1.0</td>\n",
       "    </tr>\n",
       "    <tr>\n",
       "      <th>1</th>\n",
       "      <td>03.01.2013</td>\n",
       "      <td>0</td>\n",
       "      <td>25</td>\n",
       "      <td>2552</td>\n",
       "      <td>899.00</td>\n",
       "      <td>1.0</td>\n",
       "    </tr>\n",
       "    <tr>\n",
       "      <th>2</th>\n",
       "      <td>05.01.2013</td>\n",
       "      <td>0</td>\n",
       "      <td>25</td>\n",
       "      <td>2552</td>\n",
       "      <td>899.00</td>\n",
       "      <td>-1.0</td>\n",
       "    </tr>\n",
       "    <tr>\n",
       "      <th>3</th>\n",
       "      <td>06.01.2013</td>\n",
       "      <td>0</td>\n",
       "      <td>25</td>\n",
       "      <td>2554</td>\n",
       "      <td>1709.05</td>\n",
       "      <td>1.0</td>\n",
       "    </tr>\n",
       "    <tr>\n",
       "      <th>4</th>\n",
       "      <td>15.01.2013</td>\n",
       "      <td>0</td>\n",
       "      <td>25</td>\n",
       "      <td>2555</td>\n",
       "      <td>1099.00</td>\n",
       "      <td>1.0</td>\n",
       "    </tr>\n",
       "  </tbody>\n",
       "</table>\n",
       "</div>"
      ],
      "text/plain": [
       "         date  date_block_num  shop_id  item_id  item_price  item_cnt_day\n",
       "0  02.01.2013               0       59    22154      999.00           1.0\n",
       "1  03.01.2013               0       25     2552      899.00           1.0\n",
       "2  05.01.2013               0       25     2552      899.00          -1.0\n",
       "3  06.01.2013               0       25     2554     1709.05           1.0\n",
       "4  15.01.2013               0       25     2555     1099.00           1.0"
      ]
     },
     "metadata": {},
     "output_type": "display_data"
    },
    {
     "name": "stdout",
     "output_type": "stream",
     "text": [
      "\n",
      "shops.csv\n"
     ]
    },
    {
     "data": {
      "text/html": [
       "<div>\n",
       "<style scoped>\n",
       "    .dataframe tbody tr th:only-of-type {\n",
       "        vertical-align: middle;\n",
       "    }\n",
       "\n",
       "    .dataframe tbody tr th {\n",
       "        vertical-align: top;\n",
       "    }\n",
       "\n",
       "    .dataframe thead th {\n",
       "        text-align: right;\n",
       "    }\n",
       "</style>\n",
       "<table border=\"1\" class=\"dataframe\">\n",
       "  <thead>\n",
       "    <tr style=\"text-align: right;\">\n",
       "      <th></th>\n",
       "      <th>shop_name</th>\n",
       "      <th>shop_id</th>\n",
       "    </tr>\n",
       "  </thead>\n",
       "  <tbody>\n",
       "    <tr>\n",
       "      <th>0</th>\n",
       "      <td>!Якутск Орджоникидзе, 56 фран</td>\n",
       "      <td>0</td>\n",
       "    </tr>\n",
       "    <tr>\n",
       "      <th>1</th>\n",
       "      <td>!Якутск ТЦ \"Центральный\" фран</td>\n",
       "      <td>1</td>\n",
       "    </tr>\n",
       "    <tr>\n",
       "      <th>2</th>\n",
       "      <td>Адыгея ТЦ \"Мега\"</td>\n",
       "      <td>2</td>\n",
       "    </tr>\n",
       "    <tr>\n",
       "      <th>3</th>\n",
       "      <td>Балашиха ТРК \"Октябрь-Киномир\"</td>\n",
       "      <td>3</td>\n",
       "    </tr>\n",
       "    <tr>\n",
       "      <th>4</th>\n",
       "      <td>Волжский ТЦ \"Волга Молл\"</td>\n",
       "      <td>4</td>\n",
       "    </tr>\n",
       "  </tbody>\n",
       "</table>\n",
       "</div>"
      ],
      "text/plain": [
       "                        shop_name  shop_id\n",
       "0   !Якутск Орджоникидзе, 56 фран        0\n",
       "1   !Якутск ТЦ \"Центральный\" фран        1\n",
       "2                Адыгея ТЦ \"Мега\"        2\n",
       "3  Балашиха ТРК \"Октябрь-Киномир\"        3\n",
       "4        Волжский ТЦ \"Волга Молл\"        4"
      ]
     },
     "metadata": {},
     "output_type": "display_data"
    },
    {
     "name": "stdout",
     "output_type": "stream",
     "text": [
      "\n",
      "test.csv\n"
     ]
    },
    {
     "data": {
      "text/html": [
       "<div>\n",
       "<style scoped>\n",
       "    .dataframe tbody tr th:only-of-type {\n",
       "        vertical-align: middle;\n",
       "    }\n",
       "\n",
       "    .dataframe tbody tr th {\n",
       "        vertical-align: top;\n",
       "    }\n",
       "\n",
       "    .dataframe thead th {\n",
       "        text-align: right;\n",
       "    }\n",
       "</style>\n",
       "<table border=\"1\" class=\"dataframe\">\n",
       "  <thead>\n",
       "    <tr style=\"text-align: right;\">\n",
       "      <th></th>\n",
       "      <th>ID</th>\n",
       "      <th>shop_id</th>\n",
       "      <th>item_id</th>\n",
       "    </tr>\n",
       "  </thead>\n",
       "  <tbody>\n",
       "    <tr>\n",
       "      <th>0</th>\n",
       "      <td>0</td>\n",
       "      <td>5</td>\n",
       "      <td>5037</td>\n",
       "    </tr>\n",
       "    <tr>\n",
       "      <th>1</th>\n",
       "      <td>1</td>\n",
       "      <td>5</td>\n",
       "      <td>5320</td>\n",
       "    </tr>\n",
       "    <tr>\n",
       "      <th>2</th>\n",
       "      <td>2</td>\n",
       "      <td>5</td>\n",
       "      <td>5233</td>\n",
       "    </tr>\n",
       "    <tr>\n",
       "      <th>3</th>\n",
       "      <td>3</td>\n",
       "      <td>5</td>\n",
       "      <td>5232</td>\n",
       "    </tr>\n",
       "    <tr>\n",
       "      <th>4</th>\n",
       "      <td>4</td>\n",
       "      <td>5</td>\n",
       "      <td>5268</td>\n",
       "    </tr>\n",
       "  </tbody>\n",
       "</table>\n",
       "</div>"
      ],
      "text/plain": [
       "   ID  shop_id  item_id\n",
       "0   0        5     5037\n",
       "1   1        5     5320\n",
       "2   2        5     5233\n",
       "3   3        5     5232\n",
       "4   4        5     5268"
      ]
     },
     "metadata": {},
     "output_type": "display_data"
    },
    {
     "name": "stdout",
     "output_type": "stream",
     "text": [
      "\n",
      "item_categories.csv\n"
     ]
    },
    {
     "data": {
      "text/html": [
       "<div>\n",
       "<style scoped>\n",
       "    .dataframe tbody tr th:only-of-type {\n",
       "        vertical-align: middle;\n",
       "    }\n",
       "\n",
       "    .dataframe tbody tr th {\n",
       "        vertical-align: top;\n",
       "    }\n",
       "\n",
       "    .dataframe thead th {\n",
       "        text-align: right;\n",
       "    }\n",
       "</style>\n",
       "<table border=\"1\" class=\"dataframe\">\n",
       "  <thead>\n",
       "    <tr style=\"text-align: right;\">\n",
       "      <th></th>\n",
       "      <th>item_category_name</th>\n",
       "      <th>item_category_id</th>\n",
       "    </tr>\n",
       "  </thead>\n",
       "  <tbody>\n",
       "    <tr>\n",
       "      <th>0</th>\n",
       "      <td>PC - Гарнитуры/Наушники</td>\n",
       "      <td>0</td>\n",
       "    </tr>\n",
       "    <tr>\n",
       "      <th>1</th>\n",
       "      <td>Аксессуары - PS2</td>\n",
       "      <td>1</td>\n",
       "    </tr>\n",
       "    <tr>\n",
       "      <th>2</th>\n",
       "      <td>Аксессуары - PS3</td>\n",
       "      <td>2</td>\n",
       "    </tr>\n",
       "    <tr>\n",
       "      <th>3</th>\n",
       "      <td>Аксессуары - PS4</td>\n",
       "      <td>3</td>\n",
       "    </tr>\n",
       "    <tr>\n",
       "      <th>4</th>\n",
       "      <td>Аксессуары - PSP</td>\n",
       "      <td>4</td>\n",
       "    </tr>\n",
       "  </tbody>\n",
       "</table>\n",
       "</div>"
      ],
      "text/plain": [
       "        item_category_name  item_category_id\n",
       "0  PC - Гарнитуры/Наушники                 0\n",
       "1         Аксессуары - PS2                 1\n",
       "2         Аксессуары - PS3                 2\n",
       "3         Аксессуары - PS4                 3\n",
       "4         Аксессуары - PSP                 4"
      ]
     },
     "metadata": {},
     "output_type": "display_data"
    },
    {
     "name": "stdout",
     "output_type": "stream",
     "text": [
      "\n",
      "items.csv\n"
     ]
    },
    {
     "data": {
      "text/html": [
       "<div>\n",
       "<style scoped>\n",
       "    .dataframe tbody tr th:only-of-type {\n",
       "        vertical-align: middle;\n",
       "    }\n",
       "\n",
       "    .dataframe tbody tr th {\n",
       "        vertical-align: top;\n",
       "    }\n",
       "\n",
       "    .dataframe thead th {\n",
       "        text-align: right;\n",
       "    }\n",
       "</style>\n",
       "<table border=\"1\" class=\"dataframe\">\n",
       "  <thead>\n",
       "    <tr style=\"text-align: right;\">\n",
       "      <th></th>\n",
       "      <th>item_name</th>\n",
       "      <th>item_id</th>\n",
       "      <th>item_category_id</th>\n",
       "    </tr>\n",
       "  </thead>\n",
       "  <tbody>\n",
       "    <tr>\n",
       "      <th>0</th>\n",
       "      <td>! ВО ВЛАСТИ НАВАЖДЕНИЯ (ПЛАСТ.)         D</td>\n",
       "      <td>0</td>\n",
       "      <td>40</td>\n",
       "    </tr>\n",
       "    <tr>\n",
       "      <th>1</th>\n",
       "      <td>!ABBYY FineReader 12 Professional Edition Full...</td>\n",
       "      <td>1</td>\n",
       "      <td>76</td>\n",
       "    </tr>\n",
       "    <tr>\n",
       "      <th>2</th>\n",
       "      <td>***В ЛУЧАХ СЛАВЫ   (UNV)                    D</td>\n",
       "      <td>2</td>\n",
       "      <td>40</td>\n",
       "    </tr>\n",
       "    <tr>\n",
       "      <th>3</th>\n",
       "      <td>***ГОЛУБАЯ ВОЛНА  (Univ)                      D</td>\n",
       "      <td>3</td>\n",
       "      <td>40</td>\n",
       "    </tr>\n",
       "    <tr>\n",
       "      <th>4</th>\n",
       "      <td>***КОРОБКА (СТЕКЛО)                       D</td>\n",
       "      <td>4</td>\n",
       "      <td>40</td>\n",
       "    </tr>\n",
       "  </tbody>\n",
       "</table>\n",
       "</div>"
      ],
      "text/plain": [
       "                                           item_name  item_id  \\\n",
       "0          ! ВО ВЛАСТИ НАВАЖДЕНИЯ (ПЛАСТ.)         D        0   \n",
       "1  !ABBYY FineReader 12 Professional Edition Full...        1   \n",
       "2      ***В ЛУЧАХ СЛАВЫ   (UNV)                    D        2   \n",
       "3    ***ГОЛУБАЯ ВОЛНА  (Univ)                      D        3   \n",
       "4        ***КОРОБКА (СТЕКЛО)                       D        4   \n",
       "\n",
       "   item_category_id  \n",
       "0                40  \n",
       "1                76  \n",
       "2                40  \n",
       "3                40  \n",
       "4                40  "
      ]
     },
     "metadata": {},
     "output_type": "display_data"
    },
    {
     "name": "stdout",
     "output_type": "stream",
     "text": [
      "\n",
      "sample_submission.csv\n"
     ]
    },
    {
     "data": {
      "text/html": [
       "<div>\n",
       "<style scoped>\n",
       "    .dataframe tbody tr th:only-of-type {\n",
       "        vertical-align: middle;\n",
       "    }\n",
       "\n",
       "    .dataframe tbody tr th {\n",
       "        vertical-align: top;\n",
       "    }\n",
       "\n",
       "    .dataframe thead th {\n",
       "        text-align: right;\n",
       "    }\n",
       "</style>\n",
       "<table border=\"1\" class=\"dataframe\">\n",
       "  <thead>\n",
       "    <tr style=\"text-align: right;\">\n",
       "      <th></th>\n",
       "      <th>ID</th>\n",
       "      <th>item_cnt_month</th>\n",
       "    </tr>\n",
       "  </thead>\n",
       "  <tbody>\n",
       "    <tr>\n",
       "      <th>0</th>\n",
       "      <td>0</td>\n",
       "      <td>0.5</td>\n",
       "    </tr>\n",
       "    <tr>\n",
       "      <th>1</th>\n",
       "      <td>1</td>\n",
       "      <td>0.5</td>\n",
       "    </tr>\n",
       "    <tr>\n",
       "      <th>2</th>\n",
       "      <td>2</td>\n",
       "      <td>0.5</td>\n",
       "    </tr>\n",
       "    <tr>\n",
       "      <th>3</th>\n",
       "      <td>3</td>\n",
       "      <td>0.5</td>\n",
       "    </tr>\n",
       "    <tr>\n",
       "      <th>4</th>\n",
       "      <td>4</td>\n",
       "      <td>0.5</td>\n",
       "    </tr>\n",
       "  </tbody>\n",
       "</table>\n",
       "</div>"
      ],
      "text/plain": [
       "   ID  item_cnt_month\n",
       "0   0             0.5\n",
       "1   1             0.5\n",
       "2   2             0.5\n",
       "3   3             0.5\n",
       "4   4             0.5"
      ]
     },
     "metadata": {},
     "output_type": "display_data"
    },
    {
     "name": "stdout",
     "output_type": "stream",
     "text": [
      "\n"
     ]
    }
   ],
   "source": [
    "preview_data(data, 5)"
   ]
  },
  {
   "cell_type": "markdown",
   "id": "c3f2628a",
   "metadata": {},
   "source": [
    "## Descride data"
   ]
  },
  {
   "cell_type": "code",
   "execution_count": 8,
   "id": "20b56c11",
   "metadata": {},
   "outputs": [],
   "source": [
    "def print_md(string: str) -> None:\n",
    "    display(Markdown(string))"
   ]
  },
  {
   "cell_type": "code",
   "execution_count": 9,
   "id": "c61be347",
   "metadata": {},
   "outputs": [],
   "source": [
    "def data_description(data: dict[str, pd.DataFrame]) -> None:\n",
    "    for filename, df in data.items():\n",
    "        print_md('---')\n",
    "        print_md(f'### **{filename}**')\n",
    "        \n",
    "        print_md('*Shape:*')\n",
    "        print(df.shape)\n",
    "        \n",
    "        print_md('*Basic info:*')\n",
    "        display(df.info())\n",
    "        \n",
    "        print_md('*Percentages of missing value:*')\n",
    "        print(df.isnull().sum() / df.shape[0] * 100)\n",
    "        \n",
    "        print_md('*Unique values for each column:*')\n",
    "        display(df.nunique())\n",
    "        \n",
    "        print_md('*Summary statistics:*')\n",
    "        display(df.describe())\n",
    "        \n",
    "        print_md('*Duplicated rows:*')\n",
    "        display(df.groupby(df.columns.tolist(),as_index=False).size().query('size > 1'))"
   ]
  },
  {
   "cell_type": "code",
   "execution_count": 10,
   "id": "0fdd6738",
   "metadata": {
    "scrolled": true
   },
   "outputs": [
    {
     "data": {
      "text/markdown": [
       "---"
      ],
      "text/plain": [
       "<IPython.core.display.Markdown object>"
      ]
     },
     "metadata": {},
     "output_type": "display_data"
    },
    {
     "data": {
      "text/markdown": [
       "### **sales_train.csv**"
      ],
      "text/plain": [
       "<IPython.core.display.Markdown object>"
      ]
     },
     "metadata": {},
     "output_type": "display_data"
    },
    {
     "data": {
      "text/markdown": [
       "*Shape:*"
      ],
      "text/plain": [
       "<IPython.core.display.Markdown object>"
      ]
     },
     "metadata": {},
     "output_type": "display_data"
    },
    {
     "name": "stdout",
     "output_type": "stream",
     "text": [
      "(2935849, 6)\n"
     ]
    },
    {
     "data": {
      "text/markdown": [
       "*Basic info:*"
      ],
      "text/plain": [
       "<IPython.core.display.Markdown object>"
      ]
     },
     "metadata": {},
     "output_type": "display_data"
    },
    {
     "name": "stdout",
     "output_type": "stream",
     "text": [
      "<class 'pandas.core.frame.DataFrame'>\n",
      "RangeIndex: 2935849 entries, 0 to 2935848\n",
      "Data columns (total 6 columns):\n",
      " #   Column          Dtype  \n",
      "---  ------          -----  \n",
      " 0   date            object \n",
      " 1   date_block_num  int64  \n",
      " 2   shop_id         int64  \n",
      " 3   item_id         int64  \n",
      " 4   item_price      float64\n",
      " 5   item_cnt_day    float64\n",
      "dtypes: float64(2), int64(3), object(1)\n",
      "memory usage: 134.4+ MB\n"
     ]
    },
    {
     "data": {
      "text/plain": [
       "None"
      ]
     },
     "metadata": {},
     "output_type": "display_data"
    },
    {
     "data": {
      "text/markdown": [
       "*Percentages of missing value:*"
      ],
      "text/plain": [
       "<IPython.core.display.Markdown object>"
      ]
     },
     "metadata": {},
     "output_type": "display_data"
    },
    {
     "name": "stdout",
     "output_type": "stream",
     "text": [
      "date              0.0\n",
      "date_block_num    0.0\n",
      "shop_id           0.0\n",
      "item_id           0.0\n",
      "item_price        0.0\n",
      "item_cnt_day      0.0\n",
      "dtype: float64\n"
     ]
    },
    {
     "data": {
      "text/markdown": [
       "*Unique values for each column:*"
      ],
      "text/plain": [
       "<IPython.core.display.Markdown object>"
      ]
     },
     "metadata": {},
     "output_type": "display_data"
    },
    {
     "data": {
      "text/plain": [
       "date               1034\n",
       "date_block_num       34\n",
       "shop_id              60\n",
       "item_id           21807\n",
       "item_price        19993\n",
       "item_cnt_day        198\n",
       "dtype: int64"
      ]
     },
     "metadata": {},
     "output_type": "display_data"
    },
    {
     "data": {
      "text/markdown": [
       "*Summary statistics:*"
      ],
      "text/plain": [
       "<IPython.core.display.Markdown object>"
      ]
     },
     "metadata": {},
     "output_type": "display_data"
    },
    {
     "data": {
      "text/html": [
       "<div>\n",
       "<style scoped>\n",
       "    .dataframe tbody tr th:only-of-type {\n",
       "        vertical-align: middle;\n",
       "    }\n",
       "\n",
       "    .dataframe tbody tr th {\n",
       "        vertical-align: top;\n",
       "    }\n",
       "\n",
       "    .dataframe thead th {\n",
       "        text-align: right;\n",
       "    }\n",
       "</style>\n",
       "<table border=\"1\" class=\"dataframe\">\n",
       "  <thead>\n",
       "    <tr style=\"text-align: right;\">\n",
       "      <th></th>\n",
       "      <th>date_block_num</th>\n",
       "      <th>shop_id</th>\n",
       "      <th>item_id</th>\n",
       "      <th>item_price</th>\n",
       "      <th>item_cnt_day</th>\n",
       "    </tr>\n",
       "  </thead>\n",
       "  <tbody>\n",
       "    <tr>\n",
       "      <th>count</th>\n",
       "      <td>2.935849e+06</td>\n",
       "      <td>2.935849e+06</td>\n",
       "      <td>2.935849e+06</td>\n",
       "      <td>2.935849e+06</td>\n",
       "      <td>2.935849e+06</td>\n",
       "    </tr>\n",
       "    <tr>\n",
       "      <th>mean</th>\n",
       "      <td>1.456991e+01</td>\n",
       "      <td>3.300173e+01</td>\n",
       "      <td>1.019723e+04</td>\n",
       "      <td>8.908532e+02</td>\n",
       "      <td>1.242641e+00</td>\n",
       "    </tr>\n",
       "    <tr>\n",
       "      <th>std</th>\n",
       "      <td>9.422988e+00</td>\n",
       "      <td>1.622697e+01</td>\n",
       "      <td>6.324297e+03</td>\n",
       "      <td>1.729800e+03</td>\n",
       "      <td>2.618834e+00</td>\n",
       "    </tr>\n",
       "    <tr>\n",
       "      <th>min</th>\n",
       "      <td>0.000000e+00</td>\n",
       "      <td>0.000000e+00</td>\n",
       "      <td>0.000000e+00</td>\n",
       "      <td>-1.000000e+00</td>\n",
       "      <td>-2.200000e+01</td>\n",
       "    </tr>\n",
       "    <tr>\n",
       "      <th>25%</th>\n",
       "      <td>7.000000e+00</td>\n",
       "      <td>2.200000e+01</td>\n",
       "      <td>4.476000e+03</td>\n",
       "      <td>2.490000e+02</td>\n",
       "      <td>1.000000e+00</td>\n",
       "    </tr>\n",
       "    <tr>\n",
       "      <th>50%</th>\n",
       "      <td>1.400000e+01</td>\n",
       "      <td>3.100000e+01</td>\n",
       "      <td>9.343000e+03</td>\n",
       "      <td>3.990000e+02</td>\n",
       "      <td>1.000000e+00</td>\n",
       "    </tr>\n",
       "    <tr>\n",
       "      <th>75%</th>\n",
       "      <td>2.300000e+01</td>\n",
       "      <td>4.700000e+01</td>\n",
       "      <td>1.568400e+04</td>\n",
       "      <td>9.990000e+02</td>\n",
       "      <td>1.000000e+00</td>\n",
       "    </tr>\n",
       "    <tr>\n",
       "      <th>max</th>\n",
       "      <td>3.300000e+01</td>\n",
       "      <td>5.900000e+01</td>\n",
       "      <td>2.216900e+04</td>\n",
       "      <td>3.079800e+05</td>\n",
       "      <td>2.169000e+03</td>\n",
       "    </tr>\n",
       "  </tbody>\n",
       "</table>\n",
       "</div>"
      ],
      "text/plain": [
       "       date_block_num       shop_id       item_id    item_price  item_cnt_day\n",
       "count    2.935849e+06  2.935849e+06  2.935849e+06  2.935849e+06  2.935849e+06\n",
       "mean     1.456991e+01  3.300173e+01  1.019723e+04  8.908532e+02  1.242641e+00\n",
       "std      9.422988e+00  1.622697e+01  6.324297e+03  1.729800e+03  2.618834e+00\n",
       "min      0.000000e+00  0.000000e+00  0.000000e+00 -1.000000e+00 -2.200000e+01\n",
       "25%      7.000000e+00  2.200000e+01  4.476000e+03  2.490000e+02  1.000000e+00\n",
       "50%      1.400000e+01  3.100000e+01  9.343000e+03  3.990000e+02  1.000000e+00\n",
       "75%      2.300000e+01  4.700000e+01  1.568400e+04  9.990000e+02  1.000000e+00\n",
       "max      3.300000e+01  5.900000e+01  2.216900e+04  3.079800e+05  2.169000e+03"
      ]
     },
     "metadata": {},
     "output_type": "display_data"
    },
    {
     "data": {
      "text/markdown": [
       "*Duplicated rows:*"
      ],
      "text/plain": [
       "<IPython.core.display.Markdown object>"
      ]
     },
     "metadata": {},
     "output_type": "display_data"
    },
    {
     "data": {
      "text/html": [
       "<div>\n",
       "<style scoped>\n",
       "    .dataframe tbody tr th:only-of-type {\n",
       "        vertical-align: middle;\n",
       "    }\n",
       "\n",
       "    .dataframe tbody tr th {\n",
       "        vertical-align: top;\n",
       "    }\n",
       "\n",
       "    .dataframe thead th {\n",
       "        text-align: right;\n",
       "    }\n",
       "</style>\n",
       "<table border=\"1\" class=\"dataframe\">\n",
       "  <thead>\n",
       "    <tr style=\"text-align: right;\">\n",
       "      <th></th>\n",
       "      <th>date</th>\n",
       "      <th>date_block_num</th>\n",
       "      <th>shop_id</th>\n",
       "      <th>item_id</th>\n",
       "      <th>item_price</th>\n",
       "      <th>item_cnt_day</th>\n",
       "      <th>size</th>\n",
       "    </tr>\n",
       "  </thead>\n",
       "  <tbody>\n",
       "    <tr>\n",
       "      <th>39417</th>\n",
       "      <td>01.05.2014</td>\n",
       "      <td>16</td>\n",
       "      <td>50</td>\n",
       "      <td>3423</td>\n",
       "      <td>999.0</td>\n",
       "      <td>1.0</td>\n",
       "      <td>2</td>\n",
       "    </tr>\n",
       "    <tr>\n",
       "      <th>396537</th>\n",
       "      <td>05.01.2013</td>\n",
       "      <td>0</td>\n",
       "      <td>54</td>\n",
       "      <td>20130</td>\n",
       "      <td>149.0</td>\n",
       "      <td>1.0</td>\n",
       "      <td>2</td>\n",
       "    </tr>\n",
       "    <tr>\n",
       "      <th>1112896</th>\n",
       "      <td>12.07.2014</td>\n",
       "      <td>18</td>\n",
       "      <td>25</td>\n",
       "      <td>3423</td>\n",
       "      <td>999.0</td>\n",
       "      <td>1.0</td>\n",
       "      <td>2</td>\n",
       "    </tr>\n",
       "    <tr>\n",
       "      <th>2115422</th>\n",
       "      <td>23.02.2014</td>\n",
       "      <td>13</td>\n",
       "      <td>50</td>\n",
       "      <td>3423</td>\n",
       "      <td>999.0</td>\n",
       "      <td>1.0</td>\n",
       "      <td>2</td>\n",
       "    </tr>\n",
       "    <tr>\n",
       "      <th>2127417</th>\n",
       "      <td>23.03.2014</td>\n",
       "      <td>14</td>\n",
       "      <td>21</td>\n",
       "      <td>3423</td>\n",
       "      <td>999.0</td>\n",
       "      <td>1.0</td>\n",
       "      <td>2</td>\n",
       "    </tr>\n",
       "    <tr>\n",
       "      <th>2932915</th>\n",
       "      <td>31.12.2014</td>\n",
       "      <td>23</td>\n",
       "      <td>42</td>\n",
       "      <td>21619</td>\n",
       "      <td>499.0</td>\n",
       "      <td>1.0</td>\n",
       "      <td>2</td>\n",
       "    </tr>\n",
       "  </tbody>\n",
       "</table>\n",
       "</div>"
      ],
      "text/plain": [
       "               date  date_block_num  shop_id  item_id  item_price  \\\n",
       "39417    01.05.2014              16       50     3423       999.0   \n",
       "396537   05.01.2013               0       54    20130       149.0   \n",
       "1112896  12.07.2014              18       25     3423       999.0   \n",
       "2115422  23.02.2014              13       50     3423       999.0   \n",
       "2127417  23.03.2014              14       21     3423       999.0   \n",
       "2932915  31.12.2014              23       42    21619       499.0   \n",
       "\n",
       "         item_cnt_day  size  \n",
       "39417             1.0     2  \n",
       "396537            1.0     2  \n",
       "1112896           1.0     2  \n",
       "2115422           1.0     2  \n",
       "2127417           1.0     2  \n",
       "2932915           1.0     2  "
      ]
     },
     "metadata": {},
     "output_type": "display_data"
    },
    {
     "data": {
      "text/markdown": [
       "---"
      ],
      "text/plain": [
       "<IPython.core.display.Markdown object>"
      ]
     },
     "metadata": {},
     "output_type": "display_data"
    },
    {
     "data": {
      "text/markdown": [
       "### **shops.csv**"
      ],
      "text/plain": [
       "<IPython.core.display.Markdown object>"
      ]
     },
     "metadata": {},
     "output_type": "display_data"
    },
    {
     "data": {
      "text/markdown": [
       "*Shape:*"
      ],
      "text/plain": [
       "<IPython.core.display.Markdown object>"
      ]
     },
     "metadata": {},
     "output_type": "display_data"
    },
    {
     "name": "stdout",
     "output_type": "stream",
     "text": [
      "(60, 2)\n"
     ]
    },
    {
     "data": {
      "text/markdown": [
       "*Basic info:*"
      ],
      "text/plain": [
       "<IPython.core.display.Markdown object>"
      ]
     },
     "metadata": {},
     "output_type": "display_data"
    },
    {
     "name": "stdout",
     "output_type": "stream",
     "text": [
      "<class 'pandas.core.frame.DataFrame'>\n",
      "RangeIndex: 60 entries, 0 to 59\n",
      "Data columns (total 2 columns):\n",
      " #   Column     Non-Null Count  Dtype \n",
      "---  ------     --------------  ----- \n",
      " 0   shop_name  60 non-null     object\n",
      " 1   shop_id    60 non-null     int64 \n",
      "dtypes: int64(1), object(1)\n",
      "memory usage: 1.1+ KB\n"
     ]
    },
    {
     "data": {
      "text/plain": [
       "None"
      ]
     },
     "metadata": {},
     "output_type": "display_data"
    },
    {
     "data": {
      "text/markdown": [
       "*Percentages of missing value:*"
      ],
      "text/plain": [
       "<IPython.core.display.Markdown object>"
      ]
     },
     "metadata": {},
     "output_type": "display_data"
    },
    {
     "name": "stdout",
     "output_type": "stream",
     "text": [
      "shop_name    0.0\n",
      "shop_id      0.0\n",
      "dtype: float64\n"
     ]
    },
    {
     "data": {
      "text/markdown": [
       "*Unique values for each column:*"
      ],
      "text/plain": [
       "<IPython.core.display.Markdown object>"
      ]
     },
     "metadata": {},
     "output_type": "display_data"
    },
    {
     "data": {
      "text/plain": [
       "shop_name    60\n",
       "shop_id      60\n",
       "dtype: int64"
      ]
     },
     "metadata": {},
     "output_type": "display_data"
    },
    {
     "data": {
      "text/markdown": [
       "*Summary statistics:*"
      ],
      "text/plain": [
       "<IPython.core.display.Markdown object>"
      ]
     },
     "metadata": {},
     "output_type": "display_data"
    },
    {
     "data": {
      "text/html": [
       "<div>\n",
       "<style scoped>\n",
       "    .dataframe tbody tr th:only-of-type {\n",
       "        vertical-align: middle;\n",
       "    }\n",
       "\n",
       "    .dataframe tbody tr th {\n",
       "        vertical-align: top;\n",
       "    }\n",
       "\n",
       "    .dataframe thead th {\n",
       "        text-align: right;\n",
       "    }\n",
       "</style>\n",
       "<table border=\"1\" class=\"dataframe\">\n",
       "  <thead>\n",
       "    <tr style=\"text-align: right;\">\n",
       "      <th></th>\n",
       "      <th>shop_id</th>\n",
       "    </tr>\n",
       "  </thead>\n",
       "  <tbody>\n",
       "    <tr>\n",
       "      <th>count</th>\n",
       "      <td>60.000000</td>\n",
       "    </tr>\n",
       "    <tr>\n",
       "      <th>mean</th>\n",
       "      <td>29.500000</td>\n",
       "    </tr>\n",
       "    <tr>\n",
       "      <th>std</th>\n",
       "      <td>17.464249</td>\n",
       "    </tr>\n",
       "    <tr>\n",
       "      <th>min</th>\n",
       "      <td>0.000000</td>\n",
       "    </tr>\n",
       "    <tr>\n",
       "      <th>25%</th>\n",
       "      <td>14.750000</td>\n",
       "    </tr>\n",
       "    <tr>\n",
       "      <th>50%</th>\n",
       "      <td>29.500000</td>\n",
       "    </tr>\n",
       "    <tr>\n",
       "      <th>75%</th>\n",
       "      <td>44.250000</td>\n",
       "    </tr>\n",
       "    <tr>\n",
       "      <th>max</th>\n",
       "      <td>59.000000</td>\n",
       "    </tr>\n",
       "  </tbody>\n",
       "</table>\n",
       "</div>"
      ],
      "text/plain": [
       "         shop_id\n",
       "count  60.000000\n",
       "mean   29.500000\n",
       "std    17.464249\n",
       "min     0.000000\n",
       "25%    14.750000\n",
       "50%    29.500000\n",
       "75%    44.250000\n",
       "max    59.000000"
      ]
     },
     "metadata": {},
     "output_type": "display_data"
    },
    {
     "data": {
      "text/markdown": [
       "*Duplicated rows:*"
      ],
      "text/plain": [
       "<IPython.core.display.Markdown object>"
      ]
     },
     "metadata": {},
     "output_type": "display_data"
    },
    {
     "data": {
      "text/html": [
       "<div>\n",
       "<style scoped>\n",
       "    .dataframe tbody tr th:only-of-type {\n",
       "        vertical-align: middle;\n",
       "    }\n",
       "\n",
       "    .dataframe tbody tr th {\n",
       "        vertical-align: top;\n",
       "    }\n",
       "\n",
       "    .dataframe thead th {\n",
       "        text-align: right;\n",
       "    }\n",
       "</style>\n",
       "<table border=\"1\" class=\"dataframe\">\n",
       "  <thead>\n",
       "    <tr style=\"text-align: right;\">\n",
       "      <th></th>\n",
       "      <th>shop_name</th>\n",
       "      <th>shop_id</th>\n",
       "      <th>size</th>\n",
       "    </tr>\n",
       "  </thead>\n",
       "  <tbody>\n",
       "  </tbody>\n",
       "</table>\n",
       "</div>"
      ],
      "text/plain": [
       "Empty DataFrame\n",
       "Columns: [shop_name, shop_id, size]\n",
       "Index: []"
      ]
     },
     "metadata": {},
     "output_type": "display_data"
    },
    {
     "data": {
      "text/markdown": [
       "---"
      ],
      "text/plain": [
       "<IPython.core.display.Markdown object>"
      ]
     },
     "metadata": {},
     "output_type": "display_data"
    },
    {
     "data": {
      "text/markdown": [
       "### **test.csv**"
      ],
      "text/plain": [
       "<IPython.core.display.Markdown object>"
      ]
     },
     "metadata": {},
     "output_type": "display_data"
    },
    {
     "data": {
      "text/markdown": [
       "*Shape:*"
      ],
      "text/plain": [
       "<IPython.core.display.Markdown object>"
      ]
     },
     "metadata": {},
     "output_type": "display_data"
    },
    {
     "name": "stdout",
     "output_type": "stream",
     "text": [
      "(214200, 3)\n"
     ]
    },
    {
     "data": {
      "text/markdown": [
       "*Basic info:*"
      ],
      "text/plain": [
       "<IPython.core.display.Markdown object>"
      ]
     },
     "metadata": {},
     "output_type": "display_data"
    },
    {
     "name": "stdout",
     "output_type": "stream",
     "text": [
      "<class 'pandas.core.frame.DataFrame'>\n",
      "RangeIndex: 214200 entries, 0 to 214199\n",
      "Data columns (total 3 columns):\n",
      " #   Column   Non-Null Count   Dtype\n",
      "---  ------   --------------   -----\n",
      " 0   ID       214200 non-null  int64\n",
      " 1   shop_id  214200 non-null  int64\n",
      " 2   item_id  214200 non-null  int64\n",
      "dtypes: int64(3)\n",
      "memory usage: 4.9 MB\n"
     ]
    },
    {
     "data": {
      "text/plain": [
       "None"
      ]
     },
     "metadata": {},
     "output_type": "display_data"
    },
    {
     "data": {
      "text/markdown": [
       "*Percentages of missing value:*"
      ],
      "text/plain": [
       "<IPython.core.display.Markdown object>"
      ]
     },
     "metadata": {},
     "output_type": "display_data"
    },
    {
     "name": "stdout",
     "output_type": "stream",
     "text": [
      "ID         0.0\n",
      "shop_id    0.0\n",
      "item_id    0.0\n",
      "dtype: float64\n"
     ]
    },
    {
     "data": {
      "text/markdown": [
       "*Unique values for each column:*"
      ],
      "text/plain": [
       "<IPython.core.display.Markdown object>"
      ]
     },
     "metadata": {},
     "output_type": "display_data"
    },
    {
     "data": {
      "text/plain": [
       "ID         214200\n",
       "shop_id        42\n",
       "item_id      5100\n",
       "dtype: int64"
      ]
     },
     "metadata": {},
     "output_type": "display_data"
    },
    {
     "data": {
      "text/markdown": [
       "*Summary statistics:*"
      ],
      "text/plain": [
       "<IPython.core.display.Markdown object>"
      ]
     },
     "metadata": {},
     "output_type": "display_data"
    },
    {
     "data": {
      "text/html": [
       "<div>\n",
       "<style scoped>\n",
       "    .dataframe tbody tr th:only-of-type {\n",
       "        vertical-align: middle;\n",
       "    }\n",
       "\n",
       "    .dataframe tbody tr th {\n",
       "        vertical-align: top;\n",
       "    }\n",
       "\n",
       "    .dataframe thead th {\n",
       "        text-align: right;\n",
       "    }\n",
       "</style>\n",
       "<table border=\"1\" class=\"dataframe\">\n",
       "  <thead>\n",
       "    <tr style=\"text-align: right;\">\n",
       "      <th></th>\n",
       "      <th>ID</th>\n",
       "      <th>shop_id</th>\n",
       "      <th>item_id</th>\n",
       "    </tr>\n",
       "  </thead>\n",
       "  <tbody>\n",
       "    <tr>\n",
       "      <th>count</th>\n",
       "      <td>214200.000000</td>\n",
       "      <td>214200.000000</td>\n",
       "      <td>214200.000000</td>\n",
       "    </tr>\n",
       "    <tr>\n",
       "      <th>mean</th>\n",
       "      <td>107099.500000</td>\n",
       "      <td>31.642857</td>\n",
       "      <td>11019.398627</td>\n",
       "    </tr>\n",
       "    <tr>\n",
       "      <th>std</th>\n",
       "      <td>61834.358168</td>\n",
       "      <td>17.561933</td>\n",
       "      <td>6252.644590</td>\n",
       "    </tr>\n",
       "    <tr>\n",
       "      <th>min</th>\n",
       "      <td>0.000000</td>\n",
       "      <td>2.000000</td>\n",
       "      <td>30.000000</td>\n",
       "    </tr>\n",
       "    <tr>\n",
       "      <th>25%</th>\n",
       "      <td>53549.750000</td>\n",
       "      <td>16.000000</td>\n",
       "      <td>5381.500000</td>\n",
       "    </tr>\n",
       "    <tr>\n",
       "      <th>50%</th>\n",
       "      <td>107099.500000</td>\n",
       "      <td>34.500000</td>\n",
       "      <td>11203.000000</td>\n",
       "    </tr>\n",
       "    <tr>\n",
       "      <th>75%</th>\n",
       "      <td>160649.250000</td>\n",
       "      <td>47.000000</td>\n",
       "      <td>16071.500000</td>\n",
       "    </tr>\n",
       "    <tr>\n",
       "      <th>max</th>\n",
       "      <td>214199.000000</td>\n",
       "      <td>59.000000</td>\n",
       "      <td>22167.000000</td>\n",
       "    </tr>\n",
       "  </tbody>\n",
       "</table>\n",
       "</div>"
      ],
      "text/plain": [
       "                  ID        shop_id        item_id\n",
       "count  214200.000000  214200.000000  214200.000000\n",
       "mean   107099.500000      31.642857   11019.398627\n",
       "std     61834.358168      17.561933    6252.644590\n",
       "min         0.000000       2.000000      30.000000\n",
       "25%     53549.750000      16.000000    5381.500000\n",
       "50%    107099.500000      34.500000   11203.000000\n",
       "75%    160649.250000      47.000000   16071.500000\n",
       "max    214199.000000      59.000000   22167.000000"
      ]
     },
     "metadata": {},
     "output_type": "display_data"
    },
    {
     "data": {
      "text/markdown": [
       "*Duplicated rows:*"
      ],
      "text/plain": [
       "<IPython.core.display.Markdown object>"
      ]
     },
     "metadata": {},
     "output_type": "display_data"
    },
    {
     "data": {
      "text/html": [
       "<div>\n",
       "<style scoped>\n",
       "    .dataframe tbody tr th:only-of-type {\n",
       "        vertical-align: middle;\n",
       "    }\n",
       "\n",
       "    .dataframe tbody tr th {\n",
       "        vertical-align: top;\n",
       "    }\n",
       "\n",
       "    .dataframe thead th {\n",
       "        text-align: right;\n",
       "    }\n",
       "</style>\n",
       "<table border=\"1\" class=\"dataframe\">\n",
       "  <thead>\n",
       "    <tr style=\"text-align: right;\">\n",
       "      <th></th>\n",
       "      <th>ID</th>\n",
       "      <th>shop_id</th>\n",
       "      <th>item_id</th>\n",
       "      <th>size</th>\n",
       "    </tr>\n",
       "  </thead>\n",
       "  <tbody>\n",
       "  </tbody>\n",
       "</table>\n",
       "</div>"
      ],
      "text/plain": [
       "Empty DataFrame\n",
       "Columns: [ID, shop_id, item_id, size]\n",
       "Index: []"
      ]
     },
     "metadata": {},
     "output_type": "display_data"
    },
    {
     "data": {
      "text/markdown": [
       "---"
      ],
      "text/plain": [
       "<IPython.core.display.Markdown object>"
      ]
     },
     "metadata": {},
     "output_type": "display_data"
    },
    {
     "data": {
      "text/markdown": [
       "### **item_categories.csv**"
      ],
      "text/plain": [
       "<IPython.core.display.Markdown object>"
      ]
     },
     "metadata": {},
     "output_type": "display_data"
    },
    {
     "data": {
      "text/markdown": [
       "*Shape:*"
      ],
      "text/plain": [
       "<IPython.core.display.Markdown object>"
      ]
     },
     "metadata": {},
     "output_type": "display_data"
    },
    {
     "name": "stdout",
     "output_type": "stream",
     "text": [
      "(84, 2)\n"
     ]
    },
    {
     "data": {
      "text/markdown": [
       "*Basic info:*"
      ],
      "text/plain": [
       "<IPython.core.display.Markdown object>"
      ]
     },
     "metadata": {},
     "output_type": "display_data"
    },
    {
     "name": "stdout",
     "output_type": "stream",
     "text": [
      "<class 'pandas.core.frame.DataFrame'>\n",
      "RangeIndex: 84 entries, 0 to 83\n",
      "Data columns (total 2 columns):\n",
      " #   Column              Non-Null Count  Dtype \n",
      "---  ------              --------------  ----- \n",
      " 0   item_category_name  84 non-null     object\n",
      " 1   item_category_id    84 non-null     int64 \n",
      "dtypes: int64(1), object(1)\n",
      "memory usage: 1.4+ KB\n"
     ]
    },
    {
     "data": {
      "text/plain": [
       "None"
      ]
     },
     "metadata": {},
     "output_type": "display_data"
    },
    {
     "data": {
      "text/markdown": [
       "*Percentages of missing value:*"
      ],
      "text/plain": [
       "<IPython.core.display.Markdown object>"
      ]
     },
     "metadata": {},
     "output_type": "display_data"
    },
    {
     "name": "stdout",
     "output_type": "stream",
     "text": [
      "item_category_name    0.0\n",
      "item_category_id      0.0\n",
      "dtype: float64\n"
     ]
    },
    {
     "data": {
      "text/markdown": [
       "*Unique values for each column:*"
      ],
      "text/plain": [
       "<IPython.core.display.Markdown object>"
      ]
     },
     "metadata": {},
     "output_type": "display_data"
    },
    {
     "data": {
      "text/plain": [
       "item_category_name    84\n",
       "item_category_id      84\n",
       "dtype: int64"
      ]
     },
     "metadata": {},
     "output_type": "display_data"
    },
    {
     "data": {
      "text/markdown": [
       "*Summary statistics:*"
      ],
      "text/plain": [
       "<IPython.core.display.Markdown object>"
      ]
     },
     "metadata": {},
     "output_type": "display_data"
    },
    {
     "data": {
      "text/html": [
       "<div>\n",
       "<style scoped>\n",
       "    .dataframe tbody tr th:only-of-type {\n",
       "        vertical-align: middle;\n",
       "    }\n",
       "\n",
       "    .dataframe tbody tr th {\n",
       "        vertical-align: top;\n",
       "    }\n",
       "\n",
       "    .dataframe thead th {\n",
       "        text-align: right;\n",
       "    }\n",
       "</style>\n",
       "<table border=\"1\" class=\"dataframe\">\n",
       "  <thead>\n",
       "    <tr style=\"text-align: right;\">\n",
       "      <th></th>\n",
       "      <th>item_category_id</th>\n",
       "    </tr>\n",
       "  </thead>\n",
       "  <tbody>\n",
       "    <tr>\n",
       "      <th>count</th>\n",
       "      <td>84.000000</td>\n",
       "    </tr>\n",
       "    <tr>\n",
       "      <th>mean</th>\n",
       "      <td>41.500000</td>\n",
       "    </tr>\n",
       "    <tr>\n",
       "      <th>std</th>\n",
       "      <td>24.392622</td>\n",
       "    </tr>\n",
       "    <tr>\n",
       "      <th>min</th>\n",
       "      <td>0.000000</td>\n",
       "    </tr>\n",
       "    <tr>\n",
       "      <th>25%</th>\n",
       "      <td>20.750000</td>\n",
       "    </tr>\n",
       "    <tr>\n",
       "      <th>50%</th>\n",
       "      <td>41.500000</td>\n",
       "    </tr>\n",
       "    <tr>\n",
       "      <th>75%</th>\n",
       "      <td>62.250000</td>\n",
       "    </tr>\n",
       "    <tr>\n",
       "      <th>max</th>\n",
       "      <td>83.000000</td>\n",
       "    </tr>\n",
       "  </tbody>\n",
       "</table>\n",
       "</div>"
      ],
      "text/plain": [
       "       item_category_id\n",
       "count         84.000000\n",
       "mean          41.500000\n",
       "std           24.392622\n",
       "min            0.000000\n",
       "25%           20.750000\n",
       "50%           41.500000\n",
       "75%           62.250000\n",
       "max           83.000000"
      ]
     },
     "metadata": {},
     "output_type": "display_data"
    },
    {
     "data": {
      "text/markdown": [
       "*Duplicated rows:*"
      ],
      "text/plain": [
       "<IPython.core.display.Markdown object>"
      ]
     },
     "metadata": {},
     "output_type": "display_data"
    },
    {
     "data": {
      "text/html": [
       "<div>\n",
       "<style scoped>\n",
       "    .dataframe tbody tr th:only-of-type {\n",
       "        vertical-align: middle;\n",
       "    }\n",
       "\n",
       "    .dataframe tbody tr th {\n",
       "        vertical-align: top;\n",
       "    }\n",
       "\n",
       "    .dataframe thead th {\n",
       "        text-align: right;\n",
       "    }\n",
       "</style>\n",
       "<table border=\"1\" class=\"dataframe\">\n",
       "  <thead>\n",
       "    <tr style=\"text-align: right;\">\n",
       "      <th></th>\n",
       "      <th>item_category_name</th>\n",
       "      <th>item_category_id</th>\n",
       "      <th>size</th>\n",
       "    </tr>\n",
       "  </thead>\n",
       "  <tbody>\n",
       "  </tbody>\n",
       "</table>\n",
       "</div>"
      ],
      "text/plain": [
       "Empty DataFrame\n",
       "Columns: [item_category_name, item_category_id, size]\n",
       "Index: []"
      ]
     },
     "metadata": {},
     "output_type": "display_data"
    },
    {
     "data": {
      "text/markdown": [
       "---"
      ],
      "text/plain": [
       "<IPython.core.display.Markdown object>"
      ]
     },
     "metadata": {},
     "output_type": "display_data"
    },
    {
     "data": {
      "text/markdown": [
       "### **items.csv**"
      ],
      "text/plain": [
       "<IPython.core.display.Markdown object>"
      ]
     },
     "metadata": {},
     "output_type": "display_data"
    },
    {
     "data": {
      "text/markdown": [
       "*Shape:*"
      ],
      "text/plain": [
       "<IPython.core.display.Markdown object>"
      ]
     },
     "metadata": {},
     "output_type": "display_data"
    },
    {
     "name": "stdout",
     "output_type": "stream",
     "text": [
      "(22170, 3)\n"
     ]
    },
    {
     "data": {
      "text/markdown": [
       "*Basic info:*"
      ],
      "text/plain": [
       "<IPython.core.display.Markdown object>"
      ]
     },
     "metadata": {},
     "output_type": "display_data"
    },
    {
     "name": "stdout",
     "output_type": "stream",
     "text": [
      "<class 'pandas.core.frame.DataFrame'>\n",
      "RangeIndex: 22170 entries, 0 to 22169\n",
      "Data columns (total 3 columns):\n",
      " #   Column            Non-Null Count  Dtype \n",
      "---  ------            --------------  ----- \n",
      " 0   item_name         22170 non-null  object\n",
      " 1   item_id           22170 non-null  int64 \n",
      " 2   item_category_id  22170 non-null  int64 \n",
      "dtypes: int64(2), object(1)\n",
      "memory usage: 519.7+ KB\n"
     ]
    },
    {
     "data": {
      "text/plain": [
       "None"
      ]
     },
     "metadata": {},
     "output_type": "display_data"
    },
    {
     "data": {
      "text/markdown": [
       "*Percentages of missing value:*"
      ],
      "text/plain": [
       "<IPython.core.display.Markdown object>"
      ]
     },
     "metadata": {},
     "output_type": "display_data"
    },
    {
     "name": "stdout",
     "output_type": "stream",
     "text": [
      "item_name           0.0\n",
      "item_id             0.0\n",
      "item_category_id    0.0\n",
      "dtype: float64\n"
     ]
    },
    {
     "data": {
      "text/markdown": [
       "*Unique values for each column:*"
      ],
      "text/plain": [
       "<IPython.core.display.Markdown object>"
      ]
     },
     "metadata": {},
     "output_type": "display_data"
    },
    {
     "data": {
      "text/plain": [
       "item_name           22170\n",
       "item_id             22170\n",
       "item_category_id       84\n",
       "dtype: int64"
      ]
     },
     "metadata": {},
     "output_type": "display_data"
    },
    {
     "data": {
      "text/markdown": [
       "*Summary statistics:*"
      ],
      "text/plain": [
       "<IPython.core.display.Markdown object>"
      ]
     },
     "metadata": {},
     "output_type": "display_data"
    },
    {
     "data": {
      "text/html": [
       "<div>\n",
       "<style scoped>\n",
       "    .dataframe tbody tr th:only-of-type {\n",
       "        vertical-align: middle;\n",
       "    }\n",
       "\n",
       "    .dataframe tbody tr th {\n",
       "        vertical-align: top;\n",
       "    }\n",
       "\n",
       "    .dataframe thead th {\n",
       "        text-align: right;\n",
       "    }\n",
       "</style>\n",
       "<table border=\"1\" class=\"dataframe\">\n",
       "  <thead>\n",
       "    <tr style=\"text-align: right;\">\n",
       "      <th></th>\n",
       "      <th>item_id</th>\n",
       "      <th>item_category_id</th>\n",
       "    </tr>\n",
       "  </thead>\n",
       "  <tbody>\n",
       "    <tr>\n",
       "      <th>count</th>\n",
       "      <td>22170.00000</td>\n",
       "      <td>22170.000000</td>\n",
       "    </tr>\n",
       "    <tr>\n",
       "      <th>mean</th>\n",
       "      <td>11084.50000</td>\n",
       "      <td>46.290753</td>\n",
       "    </tr>\n",
       "    <tr>\n",
       "      <th>std</th>\n",
       "      <td>6400.07207</td>\n",
       "      <td>15.941486</td>\n",
       "    </tr>\n",
       "    <tr>\n",
       "      <th>min</th>\n",
       "      <td>0.00000</td>\n",
       "      <td>0.000000</td>\n",
       "    </tr>\n",
       "    <tr>\n",
       "      <th>25%</th>\n",
       "      <td>5542.25000</td>\n",
       "      <td>37.000000</td>\n",
       "    </tr>\n",
       "    <tr>\n",
       "      <th>50%</th>\n",
       "      <td>11084.50000</td>\n",
       "      <td>40.000000</td>\n",
       "    </tr>\n",
       "    <tr>\n",
       "      <th>75%</th>\n",
       "      <td>16626.75000</td>\n",
       "      <td>58.000000</td>\n",
       "    </tr>\n",
       "    <tr>\n",
       "      <th>max</th>\n",
       "      <td>22169.00000</td>\n",
       "      <td>83.000000</td>\n",
       "    </tr>\n",
       "  </tbody>\n",
       "</table>\n",
       "</div>"
      ],
      "text/plain": [
       "           item_id  item_category_id\n",
       "count  22170.00000      22170.000000\n",
       "mean   11084.50000         46.290753\n",
       "std     6400.07207         15.941486\n",
       "min        0.00000          0.000000\n",
       "25%     5542.25000         37.000000\n",
       "50%    11084.50000         40.000000\n",
       "75%    16626.75000         58.000000\n",
       "max    22169.00000         83.000000"
      ]
     },
     "metadata": {},
     "output_type": "display_data"
    },
    {
     "data": {
      "text/markdown": [
       "*Duplicated rows:*"
      ],
      "text/plain": [
       "<IPython.core.display.Markdown object>"
      ]
     },
     "metadata": {},
     "output_type": "display_data"
    },
    {
     "data": {
      "text/html": [
       "<div>\n",
       "<style scoped>\n",
       "    .dataframe tbody tr th:only-of-type {\n",
       "        vertical-align: middle;\n",
       "    }\n",
       "\n",
       "    .dataframe tbody tr th {\n",
       "        vertical-align: top;\n",
       "    }\n",
       "\n",
       "    .dataframe thead th {\n",
       "        text-align: right;\n",
       "    }\n",
       "</style>\n",
       "<table border=\"1\" class=\"dataframe\">\n",
       "  <thead>\n",
       "    <tr style=\"text-align: right;\">\n",
       "      <th></th>\n",
       "      <th>item_name</th>\n",
       "      <th>item_id</th>\n",
       "      <th>item_category_id</th>\n",
       "      <th>size</th>\n",
       "    </tr>\n",
       "  </thead>\n",
       "  <tbody>\n",
       "  </tbody>\n",
       "</table>\n",
       "</div>"
      ],
      "text/plain": [
       "Empty DataFrame\n",
       "Columns: [item_name, item_id, item_category_id, size]\n",
       "Index: []"
      ]
     },
     "metadata": {},
     "output_type": "display_data"
    },
    {
     "data": {
      "text/markdown": [
       "---"
      ],
      "text/plain": [
       "<IPython.core.display.Markdown object>"
      ]
     },
     "metadata": {},
     "output_type": "display_data"
    },
    {
     "data": {
      "text/markdown": [
       "### **sample_submission.csv**"
      ],
      "text/plain": [
       "<IPython.core.display.Markdown object>"
      ]
     },
     "metadata": {},
     "output_type": "display_data"
    },
    {
     "data": {
      "text/markdown": [
       "*Shape:*"
      ],
      "text/plain": [
       "<IPython.core.display.Markdown object>"
      ]
     },
     "metadata": {},
     "output_type": "display_data"
    },
    {
     "name": "stdout",
     "output_type": "stream",
     "text": [
      "(214200, 2)\n"
     ]
    },
    {
     "data": {
      "text/markdown": [
       "*Basic info:*"
      ],
      "text/plain": [
       "<IPython.core.display.Markdown object>"
      ]
     },
     "metadata": {},
     "output_type": "display_data"
    },
    {
     "name": "stdout",
     "output_type": "stream",
     "text": [
      "<class 'pandas.core.frame.DataFrame'>\n",
      "RangeIndex: 214200 entries, 0 to 214199\n",
      "Data columns (total 2 columns):\n",
      " #   Column          Non-Null Count   Dtype  \n",
      "---  ------          --------------   -----  \n",
      " 0   ID              214200 non-null  int64  \n",
      " 1   item_cnt_month  214200 non-null  float64\n",
      "dtypes: float64(1), int64(1)\n",
      "memory usage: 3.3 MB\n"
     ]
    },
    {
     "data": {
      "text/plain": [
       "None"
      ]
     },
     "metadata": {},
     "output_type": "display_data"
    },
    {
     "data": {
      "text/markdown": [
       "*Percentages of missing value:*"
      ],
      "text/plain": [
       "<IPython.core.display.Markdown object>"
      ]
     },
     "metadata": {},
     "output_type": "display_data"
    },
    {
     "name": "stdout",
     "output_type": "stream",
     "text": [
      "ID                0.0\n",
      "item_cnt_month    0.0\n",
      "dtype: float64\n"
     ]
    },
    {
     "data": {
      "text/markdown": [
       "*Unique values for each column:*"
      ],
      "text/plain": [
       "<IPython.core.display.Markdown object>"
      ]
     },
     "metadata": {},
     "output_type": "display_data"
    },
    {
     "data": {
      "text/plain": [
       "ID                214200\n",
       "item_cnt_month         1\n",
       "dtype: int64"
      ]
     },
     "metadata": {},
     "output_type": "display_data"
    },
    {
     "data": {
      "text/markdown": [
       "*Summary statistics:*"
      ],
      "text/plain": [
       "<IPython.core.display.Markdown object>"
      ]
     },
     "metadata": {},
     "output_type": "display_data"
    },
    {
     "data": {
      "text/html": [
       "<div>\n",
       "<style scoped>\n",
       "    .dataframe tbody tr th:only-of-type {\n",
       "        vertical-align: middle;\n",
       "    }\n",
       "\n",
       "    .dataframe tbody tr th {\n",
       "        vertical-align: top;\n",
       "    }\n",
       "\n",
       "    .dataframe thead th {\n",
       "        text-align: right;\n",
       "    }\n",
       "</style>\n",
       "<table border=\"1\" class=\"dataframe\">\n",
       "  <thead>\n",
       "    <tr style=\"text-align: right;\">\n",
       "      <th></th>\n",
       "      <th>ID</th>\n",
       "      <th>item_cnt_month</th>\n",
       "    </tr>\n",
       "  </thead>\n",
       "  <tbody>\n",
       "    <tr>\n",
       "      <th>count</th>\n",
       "      <td>214200.000000</td>\n",
       "      <td>214200.0</td>\n",
       "    </tr>\n",
       "    <tr>\n",
       "      <th>mean</th>\n",
       "      <td>107099.500000</td>\n",
       "      <td>0.5</td>\n",
       "    </tr>\n",
       "    <tr>\n",
       "      <th>std</th>\n",
       "      <td>61834.358168</td>\n",
       "      <td>0.0</td>\n",
       "    </tr>\n",
       "    <tr>\n",
       "      <th>min</th>\n",
       "      <td>0.000000</td>\n",
       "      <td>0.5</td>\n",
       "    </tr>\n",
       "    <tr>\n",
       "      <th>25%</th>\n",
       "      <td>53549.750000</td>\n",
       "      <td>0.5</td>\n",
       "    </tr>\n",
       "    <tr>\n",
       "      <th>50%</th>\n",
       "      <td>107099.500000</td>\n",
       "      <td>0.5</td>\n",
       "    </tr>\n",
       "    <tr>\n",
       "      <th>75%</th>\n",
       "      <td>160649.250000</td>\n",
       "      <td>0.5</td>\n",
       "    </tr>\n",
       "    <tr>\n",
       "      <th>max</th>\n",
       "      <td>214199.000000</td>\n",
       "      <td>0.5</td>\n",
       "    </tr>\n",
       "  </tbody>\n",
       "</table>\n",
       "</div>"
      ],
      "text/plain": [
       "                  ID  item_cnt_month\n",
       "count  214200.000000        214200.0\n",
       "mean   107099.500000             0.5\n",
       "std     61834.358168             0.0\n",
       "min         0.000000             0.5\n",
       "25%     53549.750000             0.5\n",
       "50%    107099.500000             0.5\n",
       "75%    160649.250000             0.5\n",
       "max    214199.000000             0.5"
      ]
     },
     "metadata": {},
     "output_type": "display_data"
    },
    {
     "data": {
      "text/markdown": [
       "*Duplicated rows:*"
      ],
      "text/plain": [
       "<IPython.core.display.Markdown object>"
      ]
     },
     "metadata": {},
     "output_type": "display_data"
    },
    {
     "data": {
      "text/html": [
       "<div>\n",
       "<style scoped>\n",
       "    .dataframe tbody tr th:only-of-type {\n",
       "        vertical-align: middle;\n",
       "    }\n",
       "\n",
       "    .dataframe tbody tr th {\n",
       "        vertical-align: top;\n",
       "    }\n",
       "\n",
       "    .dataframe thead th {\n",
       "        text-align: right;\n",
       "    }\n",
       "</style>\n",
       "<table border=\"1\" class=\"dataframe\">\n",
       "  <thead>\n",
       "    <tr style=\"text-align: right;\">\n",
       "      <th></th>\n",
       "      <th>ID</th>\n",
       "      <th>item_cnt_month</th>\n",
       "      <th>size</th>\n",
       "    </tr>\n",
       "  </thead>\n",
       "  <tbody>\n",
       "  </tbody>\n",
       "</table>\n",
       "</div>"
      ],
      "text/plain": [
       "Empty DataFrame\n",
       "Columns: [ID, item_cnt_month, size]\n",
       "Index: []"
      ]
     },
     "metadata": {},
     "output_type": "display_data"
    }
   ],
   "source": [
    "data_description(data)"
   ]
  },
  {
   "cell_type": "markdown",
   "id": "56ca33ec",
   "metadata": {},
   "source": [
    "### Check dublicated rows"
   ]
  },
  {
   "cell_type": "code",
   "execution_count": 11,
   "id": "90e85280",
   "metadata": {},
   "outputs": [
    {
     "data": {
      "text/plain": [
       "21619                                 ЧЕЛОВЕК ДОЖДЯ (BD)\n",
       "20130                            УЧЕНИК ЧАРОДЕЯ (регион)\n",
       "3423     Far Cry 3 (Classics) [Xbox 360, русская версия]\n",
       "Name: item_name, dtype: object"
      ]
     },
     "execution_count": 11,
     "metadata": {},
     "output_type": "execute_result"
    }
   ],
   "source": [
    "data['items.csv'].iloc[[21619, 20130, 3423]].item_name"
   ]
  },
  {
   "cell_type": "markdown",
   "id": "b38efbf7",
   "metadata": {},
   "source": [
    "These products could be bought in such quantities in the store twice in one day, so this can be considered a coincidence, not a duplicate of the data"
   ]
  },
  {
   "cell_type": "markdown",
   "id": "37985947",
   "metadata": {},
   "source": [
    "## Data Quality Check\n",
    "\n",
    "#### Work individualy with every dataframe"
   ]
  },
  {
   "cell_type": "markdown",
   "id": "b054b5f0",
   "metadata": {},
   "source": [
    "### Sales_Train"
   ]
  },
  {
   "cell_type": "code",
   "execution_count": 103,
   "id": "73aa2a2c",
   "metadata": {},
   "outputs": [],
   "source": [
    "sales_train = data['sales_train.csv'].copy()"
   ]
  },
  {
   "cell_type": "code",
   "execution_count": 105,
   "id": "b4a32b69",
   "metadata": {},
   "outputs": [],
   "source": [
    "sales_train.date = pd.to_datetime(sales_train.date)"
   ]
  },
  {
   "cell_type": "code",
   "execution_count": 106,
   "id": "873e1389",
   "metadata": {},
   "outputs": [],
   "source": [
    "sales_train['month'] = sales_train.date.dt.to_period('M')"
   ]
  },
  {
   "cell_type": "code",
   "execution_count": 107,
   "id": "fa6935d5",
   "metadata": {},
   "outputs": [
    {
     "data": {
      "text/html": [
       "<div>\n",
       "<style scoped>\n",
       "    .dataframe tbody tr th:only-of-type {\n",
       "        vertical-align: middle;\n",
       "    }\n",
       "\n",
       "    .dataframe tbody tr th {\n",
       "        vertical-align: top;\n",
       "    }\n",
       "\n",
       "    .dataframe thead th {\n",
       "        text-align: right;\n",
       "    }\n",
       "</style>\n",
       "<table border=\"1\" class=\"dataframe\">\n",
       "  <thead>\n",
       "    <tr style=\"text-align: right;\">\n",
       "      <th></th>\n",
       "      <th>date</th>\n",
       "      <th>date_block_num</th>\n",
       "      <th>shop_id</th>\n",
       "      <th>item_id</th>\n",
       "      <th>item_price</th>\n",
       "      <th>item_cnt_day</th>\n",
       "      <th>month</th>\n",
       "    </tr>\n",
       "  </thead>\n",
       "  <tbody>\n",
       "    <tr>\n",
       "      <th>0</th>\n",
       "      <td>2013-02-01</td>\n",
       "      <td>0</td>\n",
       "      <td>59</td>\n",
       "      <td>22154</td>\n",
       "      <td>999.00</td>\n",
       "      <td>1.0</td>\n",
       "      <td>2013-02</td>\n",
       "    </tr>\n",
       "    <tr>\n",
       "      <th>1</th>\n",
       "      <td>2013-03-01</td>\n",
       "      <td>0</td>\n",
       "      <td>25</td>\n",
       "      <td>2552</td>\n",
       "      <td>899.00</td>\n",
       "      <td>1.0</td>\n",
       "      <td>2013-03</td>\n",
       "    </tr>\n",
       "    <tr>\n",
       "      <th>2</th>\n",
       "      <td>2013-05-01</td>\n",
       "      <td>0</td>\n",
       "      <td>25</td>\n",
       "      <td>2552</td>\n",
       "      <td>899.00</td>\n",
       "      <td>-1.0</td>\n",
       "      <td>2013-05</td>\n",
       "    </tr>\n",
       "    <tr>\n",
       "      <th>3</th>\n",
       "      <td>2013-06-01</td>\n",
       "      <td>0</td>\n",
       "      <td>25</td>\n",
       "      <td>2554</td>\n",
       "      <td>1709.05</td>\n",
       "      <td>1.0</td>\n",
       "      <td>2013-06</td>\n",
       "    </tr>\n",
       "    <tr>\n",
       "      <th>4</th>\n",
       "      <td>2013-01-15</td>\n",
       "      <td>0</td>\n",
       "      <td>25</td>\n",
       "      <td>2555</td>\n",
       "      <td>1099.00</td>\n",
       "      <td>1.0</td>\n",
       "      <td>2013-01</td>\n",
       "    </tr>\n",
       "    <tr>\n",
       "      <th>...</th>\n",
       "      <td>...</td>\n",
       "      <td>...</td>\n",
       "      <td>...</td>\n",
       "      <td>...</td>\n",
       "      <td>...</td>\n",
       "      <td>...</td>\n",
       "      <td>...</td>\n",
       "    </tr>\n",
       "    <tr>\n",
       "      <th>2935844</th>\n",
       "      <td>2015-10-10</td>\n",
       "      <td>33</td>\n",
       "      <td>25</td>\n",
       "      <td>7409</td>\n",
       "      <td>299.00</td>\n",
       "      <td>1.0</td>\n",
       "      <td>2015-10</td>\n",
       "    </tr>\n",
       "    <tr>\n",
       "      <th>2935845</th>\n",
       "      <td>2015-09-10</td>\n",
       "      <td>33</td>\n",
       "      <td>25</td>\n",
       "      <td>7460</td>\n",
       "      <td>299.00</td>\n",
       "      <td>1.0</td>\n",
       "      <td>2015-09</td>\n",
       "    </tr>\n",
       "    <tr>\n",
       "      <th>2935846</th>\n",
       "      <td>2015-10-14</td>\n",
       "      <td>33</td>\n",
       "      <td>25</td>\n",
       "      <td>7459</td>\n",
       "      <td>349.00</td>\n",
       "      <td>1.0</td>\n",
       "      <td>2015-10</td>\n",
       "    </tr>\n",
       "    <tr>\n",
       "      <th>2935847</th>\n",
       "      <td>2015-10-22</td>\n",
       "      <td>33</td>\n",
       "      <td>25</td>\n",
       "      <td>7440</td>\n",
       "      <td>299.00</td>\n",
       "      <td>1.0</td>\n",
       "      <td>2015-10</td>\n",
       "    </tr>\n",
       "    <tr>\n",
       "      <th>2935848</th>\n",
       "      <td>2015-03-10</td>\n",
       "      <td>33</td>\n",
       "      <td>25</td>\n",
       "      <td>7460</td>\n",
       "      <td>299.00</td>\n",
       "      <td>1.0</td>\n",
       "      <td>2015-03</td>\n",
       "    </tr>\n",
       "  </tbody>\n",
       "</table>\n",
       "<p>2935849 rows × 7 columns</p>\n",
       "</div>"
      ],
      "text/plain": [
       "              date  date_block_num  shop_id  item_id  item_price  \\\n",
       "0       2013-02-01               0       59    22154      999.00   \n",
       "1       2013-03-01               0       25     2552      899.00   \n",
       "2       2013-05-01               0       25     2552      899.00   \n",
       "3       2013-06-01               0       25     2554     1709.05   \n",
       "4       2013-01-15               0       25     2555     1099.00   \n",
       "...            ...             ...      ...      ...         ...   \n",
       "2935844 2015-10-10              33       25     7409      299.00   \n",
       "2935845 2015-09-10              33       25     7460      299.00   \n",
       "2935846 2015-10-14              33       25     7459      349.00   \n",
       "2935847 2015-10-22              33       25     7440      299.00   \n",
       "2935848 2015-03-10              33       25     7460      299.00   \n",
       "\n",
       "         item_cnt_day    month  \n",
       "0                 1.0  2013-02  \n",
       "1                 1.0  2013-03  \n",
       "2                -1.0  2013-05  \n",
       "3                 1.0  2013-06  \n",
       "4                 1.0  2013-01  \n",
       "...               ...      ...  \n",
       "2935844           1.0  2015-10  \n",
       "2935845           1.0  2015-09  \n",
       "2935846           1.0  2015-10  \n",
       "2935847           1.0  2015-10  \n",
       "2935848           1.0  2015-03  \n",
       "\n",
       "[2935849 rows x 7 columns]"
      ]
     },
     "execution_count": 107,
     "metadata": {},
     "output_type": "execute_result"
    }
   ],
   "source": [
    "sales_train"
   ]
  },
  {
   "cell_type": "code",
   "execution_count": 108,
   "id": "f927e132",
   "metadata": {},
   "outputs": [],
   "source": [
    "sales_train_with_negative_item_cnt_day = sales_train[sales_train.item_cnt_day < 0]"
   ]
  },
  {
   "cell_type": "code",
   "execution_count": 109,
   "id": "24a303c5",
   "metadata": {},
   "outputs": [],
   "source": [
    "assert sales_train_with_negative_item_cnt_day.index.nunique() == len(sales_train_with_negative_item_cnt_day)"
   ]
  },
  {
   "cell_type": "code",
   "execution_count": 110,
   "id": "9aecfef4",
   "metadata": {},
   "outputs": [],
   "source": [
    "returns_over_months = sales_train_with_negative_item_cnt_day.pivot_table(\n",
    "                        index='month', \n",
    "                        columns='item_cnt_day', \n",
    "                        aggfunc='count'\n",
    "                    ).fillna(0).date"
   ]
  },
  {
   "cell_type": "code",
   "execution_count": 111,
   "id": "702ec90b",
   "metadata": {},
   "outputs": [],
   "source": [
    "returns_over_months.columns = returns_over_months.columns.astype(dtype='str')"
   ]
  },
  {
   "cell_type": "code",
   "execution_count": 112,
   "id": "86cb8e0f",
   "metadata": {
    "scrolled": false
   },
   "outputs": [
    {
     "data": {
      "image/png": "[encoded data removed]",
      "text/plain": [
       "<Figure size 640x480 with 1 Axes>"
      ]
     },
     "metadata": {},
     "output_type": "display_data"
    },
    {
     "data": {
      "image/png": "[encoded data removed]",
      "text/plain": [
       "<Figure size 640x480 with 1 Axes>"
      ]
     },
     "metadata": {},
     "output_type": "display_data"
    },
    {
     "data": {
      "image/png": "[encoded data removed]",
      "text/plain": [
       "<Figure size 640x480 with 1 Axes>"
      ]
     },
     "metadata": {},
     "output_type": "display_data"
    },
    {
     "data": {
      "image/png": "[encoded data removed]",
      "text/plain": [
       "<Figure size 640x480 with 1 Axes>"
      ]
     },
     "metadata": {},
     "output_type": "display_data"
    },
    {
     "data": {
      "image/png": "[encoded data removed]",
      "text/plain": [
       "<Figure size 640x480 with 1 Axes>"
      ]
     },
     "metadata": {},
     "output_type": "display_data"
    },
    {
     "data": {
      "image/png": "[encoded data removed]",
      "text/plain": [
       "<Figure size 640x480 with 1 Axes>"
      ]
     },
     "metadata": {},
     "output_type": "display_data"
    },
    {
     "data": {
      "image/png": "[encoded data removed]",
      "text/plain": [
       "<Figure size 640x480 with 1 Axes>"
      ]
     },
     "metadata": {},
     "output_type": "display_data"
    },
    {
     "data": {
      "image/png": "[encoded data removed]",
      "text/plain": [
       "<Figure size 640x480 with 1 Axes>"
      ]
     },
     "metadata": {},
     "output_type": "display_data"
    },
    {
     "data": {
      "image/png": "[encoded data removed]",
      "text/plain": [
       "<Figure size 640x480 with 1 Axes>"
      ]
     },
     "metadata": {},
     "output_type": "display_data"
    }
   ],
   "source": [
    "for i, column in enumerate(returns_over_months.columns):\n",
    "    plt.figure(i)\n",
    "    sns.barplot(x=returns_over_months.index.astype(dtype='str'), y=returns_over_months[column])\n",
    "    plt.xticks(rotation=90)"
   ]
  },
  {
   "cell_type": "markdown",
   "id": "c0abab15",
   "metadata": {},
   "source": [
    "According to the plots all returns that is lower than -2 can be consider outliers. "
   ]
  },
  {
   "cell_type": "code",
   "execution_count": 113,
   "id": "9267ded5",
   "metadata": {},
   "outputs": [],
   "source": [
    "sales_train = sales_train[sales_train.item_cnt_day > -2]"
   ]
  },
  {
   "cell_type": "code",
   "execution_count": null,
   "id": "10934e60",
   "metadata": {},
   "outputs": [],
   "source": []
  },
  {
   "cell_type": "code",
   "execution_count": 114,
   "id": "67d0cdde",
   "metadata": {},
   "outputs": [
    {
     "data": {
      "text/plain": [
       "[Text(0.5, 1.0, 'Boxen plot for sales train item prices')]"
      ]
     },
     "execution_count": 114,
     "metadata": {},
     "output_type": "execute_result"
    },
    {
     "data": {
      "image/png": "[encoded data removed]",
      "text/plain": [
       "<Figure size 640x480 with 1 Axes>"
      ]
     },
     "metadata": {},
     "output_type": "display_data"
    }
   ],
   "source": [
    "sns.boxenplot(sales_train.item_price, scale=\"linear\", k_depth=\"trustworthy\").set(\n",
    "    title='Boxen plot for sales train item prices')"
   ]
  },
  {
   "cell_type": "code",
   "execution_count": 115,
   "id": "db0d9fd1",
   "metadata": {},
   "outputs": [
    {
     "data": {
      "text/plain": [
       "[Text(0.5, 1.0, 'Boxen plot for sales train item count per day')]"
      ]
     },
     "execution_count": 115,
     "metadata": {},
     "output_type": "execute_result"
    },
    {
     "data": {
      "image/png": "[encoded data removed]",
      "text/plain": [
       "<Figure size 640x480 with 1 Axes>"
      ]
     },
     "metadata": {},
     "output_type": "display_data"
    }
   ],
   "source": [
    "sns.boxenplot(sales_train.item_cnt_day, scale=\"linear\", k_depth=\"trustworthy\").set(\n",
    "    title='Boxen plot for sales train item count per day')"
   ]
  },
  {
   "cell_type": "markdown",
   "id": "2846b04d",
   "metadata": {},
   "source": [
    "There are some outliers in the item prices and item count per day, so we can cut 1% of top prices and item count per day"
   ]
  },
  {
   "cell_type": "code",
   "execution_count": 119,
   "id": "7ac85112",
   "metadata": {},
   "outputs": [],
   "source": [
    "for column in [\"item_price\", \"item_cnt_day\"]:\n",
    "    upper_bound = sales_train[column].quantile(0.99)\n",
    "    sales_train = sales_train[sales_train[column] <= upper_bound]"
   ]
  },
  {
   "cell_type": "markdown",
   "id": "09a5c77b",
   "metadata": {},
   "source": [
    "Let's add column with total cost of item per day"
   ]
  },
  {
   "cell_type": "code",
   "execution_count": 120,
   "id": "f4a36e73",
   "metadata": {},
   "outputs": [],
   "source": [
    "sales_train['total_item_cost'] = sales_train.item_price * sales_train.item_cnt_day"
   ]
  },
  {
   "cell_type": "code",
   "execution_count": 121,
   "id": "7cab8423",
   "metadata": {},
   "outputs": [
    {
     "data": {
      "text/html": [
       "<div>\n",
       "<style scoped>\n",
       "    .dataframe tbody tr th:only-of-type {\n",
       "        vertical-align: middle;\n",
       "    }\n",
       "\n",
       "    .dataframe tbody tr th {\n",
       "        vertical-align: top;\n",
       "    }\n",
       "\n",
       "    .dataframe thead th {\n",
       "        text-align: right;\n",
       "    }\n",
       "</style>\n",
       "<table border=\"1\" class=\"dataframe\">\n",
       "  <thead>\n",
       "    <tr style=\"text-align: right;\">\n",
       "      <th></th>\n",
       "      <th>date</th>\n",
       "      <th>date_block_num</th>\n",
       "      <th>shop_id</th>\n",
       "      <th>item_id</th>\n",
       "      <th>item_price</th>\n",
       "      <th>item_cnt_day</th>\n",
       "      <th>month</th>\n",
       "      <th>total_item_cost</th>\n",
       "    </tr>\n",
       "  </thead>\n",
       "  <tbody>\n",
       "    <tr>\n",
       "      <th>0</th>\n",
       "      <td>2013-02-01</td>\n",
       "      <td>0</td>\n",
       "      <td>59</td>\n",
       "      <td>22154</td>\n",
       "      <td>999.00</td>\n",
       "      <td>1.0</td>\n",
       "      <td>2013-02</td>\n",
       "      <td>999.00</td>\n",
       "    </tr>\n",
       "    <tr>\n",
       "      <th>1</th>\n",
       "      <td>2013-03-01</td>\n",
       "      <td>0</td>\n",
       "      <td>25</td>\n",
       "      <td>2552</td>\n",
       "      <td>899.00</td>\n",
       "      <td>1.0</td>\n",
       "      <td>2013-03</td>\n",
       "      <td>899.00</td>\n",
       "    </tr>\n",
       "    <tr>\n",
       "      <th>2</th>\n",
       "      <td>2013-05-01</td>\n",
       "      <td>0</td>\n",
       "      <td>25</td>\n",
       "      <td>2552</td>\n",
       "      <td>899.00</td>\n",
       "      <td>-1.0</td>\n",
       "      <td>2013-05</td>\n",
       "      <td>-899.00</td>\n",
       "    </tr>\n",
       "    <tr>\n",
       "      <th>3</th>\n",
       "      <td>2013-06-01</td>\n",
       "      <td>0</td>\n",
       "      <td>25</td>\n",
       "      <td>2554</td>\n",
       "      <td>1709.05</td>\n",
       "      <td>1.0</td>\n",
       "      <td>2013-06</td>\n",
       "      <td>1709.05</td>\n",
       "    </tr>\n",
       "    <tr>\n",
       "      <th>4</th>\n",
       "      <td>2013-01-15</td>\n",
       "      <td>0</td>\n",
       "      <td>25</td>\n",
       "      <td>2555</td>\n",
       "      <td>1099.00</td>\n",
       "      <td>1.0</td>\n",
       "      <td>2013-01</td>\n",
       "      <td>1099.00</td>\n",
       "    </tr>\n",
       "    <tr>\n",
       "      <th>...</th>\n",
       "      <td>...</td>\n",
       "      <td>...</td>\n",
       "      <td>...</td>\n",
       "      <td>...</td>\n",
       "      <td>...</td>\n",
       "      <td>...</td>\n",
       "      <td>...</td>\n",
       "      <td>...</td>\n",
       "    </tr>\n",
       "    <tr>\n",
       "      <th>2935844</th>\n",
       "      <td>2015-10-10</td>\n",
       "      <td>33</td>\n",
       "      <td>25</td>\n",
       "      <td>7409</td>\n",
       "      <td>299.00</td>\n",
       "      <td>1.0</td>\n",
       "      <td>2015-10</td>\n",
       "      <td>299.00</td>\n",
       "    </tr>\n",
       "    <tr>\n",
       "      <th>2935845</th>\n",
       "      <td>2015-09-10</td>\n",
       "      <td>33</td>\n",
       "      <td>25</td>\n",
       "      <td>7460</td>\n",
       "      <td>299.00</td>\n",
       "      <td>1.0</td>\n",
       "      <td>2015-09</td>\n",
       "      <td>299.00</td>\n",
       "    </tr>\n",
       "    <tr>\n",
       "      <th>2935846</th>\n",
       "      <td>2015-10-14</td>\n",
       "      <td>33</td>\n",
       "      <td>25</td>\n",
       "      <td>7459</td>\n",
       "      <td>349.00</td>\n",
       "      <td>1.0</td>\n",
       "      <td>2015-10</td>\n",
       "      <td>349.00</td>\n",
       "    </tr>\n",
       "    <tr>\n",
       "      <th>2935847</th>\n",
       "      <td>2015-10-22</td>\n",
       "      <td>33</td>\n",
       "      <td>25</td>\n",
       "      <td>7440</td>\n",
       "      <td>299.00</td>\n",
       "      <td>1.0</td>\n",
       "      <td>2015-10</td>\n",
       "      <td>299.00</td>\n",
       "    </tr>\n",
       "    <tr>\n",
       "      <th>2935848</th>\n",
       "      <td>2015-03-10</td>\n",
       "      <td>33</td>\n",
       "      <td>25</td>\n",
       "      <td>7460</td>\n",
       "      <td>299.00</td>\n",
       "      <td>1.0</td>\n",
       "      <td>2015-03</td>\n",
       "      <td>299.00</td>\n",
       "    </tr>\n",
       "  </tbody>\n",
       "</table>\n",
       "<p>2880003 rows × 8 columns</p>\n",
       "</div>"
      ],
      "text/plain": [
       "              date  date_block_num  shop_id  item_id  item_price  \\\n",
       "0       2013-02-01               0       59    22154      999.00   \n",
       "1       2013-03-01               0       25     2552      899.00   \n",
       "2       2013-05-01               0       25     2552      899.00   \n",
       "3       2013-06-01               0       25     2554     1709.05   \n",
       "4       2013-01-15               0       25     2555     1099.00   \n",
       "...            ...             ...      ...      ...         ...   \n",
       "2935844 2015-10-10              33       25     7409      299.00   \n",
       "2935845 2015-09-10              33       25     7460      299.00   \n",
       "2935846 2015-10-14              33       25     7459      349.00   \n",
       "2935847 2015-10-22              33       25     7440      299.00   \n",
       "2935848 2015-03-10              33       25     7460      299.00   \n",
       "\n",
       "         item_cnt_day    month  total_item_cost  \n",
       "0                 1.0  2013-02           999.00  \n",
       "1                 1.0  2013-03           899.00  \n",
       "2                -1.0  2013-05          -899.00  \n",
       "3                 1.0  2013-06          1709.05  \n",
       "4                 1.0  2013-01          1099.00  \n",
       "...               ...      ...              ...  \n",
       "2935844           1.0  2015-10           299.00  \n",
       "2935845           1.0  2015-09           299.00  \n",
       "2935846           1.0  2015-10           349.00  \n",
       "2935847           1.0  2015-10           299.00  \n",
       "2935848           1.0  2015-03           299.00  \n",
       "\n",
       "[2880003 rows x 8 columns]"
      ]
     },
     "execution_count": 121,
     "metadata": {},
     "output_type": "execute_result"
    }
   ],
   "source": [
    "sales_train"
   ]
  },
  {
   "cell_type": "code",
   "execution_count": 122,
   "id": "9f3cf6c9",
   "metadata": {},
   "outputs": [
    {
     "data": {
      "text/plain": [
       "[Text(0.5, 1.0, 'Distribution of Item Count per Day')]"
      ]
     },
     "execution_count": 122,
     "metadata": {},
     "output_type": "execute_result"
    },
    {
     "data": {
      "image/png": "[encoded data removed]",
      "text/plain": [
       "<Figure size 1200x400 with 3 Axes>"
      ]
     },
     "metadata": {},
     "output_type": "display_data"
    }
   ],
   "source": [
    "fig, axs = plt.subplots(ncols=3, figsize=(12, 4))\n",
    "plt.subplots_adjust(wspace = 0.5)\n",
    "\n",
    "sns.histplot(data = sales_train ,x=sales_train.total_item_cost, kde=True, bins=50, ax=axs[0]).set(\n",
    "    title='Distribution of Total Item Cost per Day')\n",
    "\n",
    "sns.histplot(data = sales_train ,x=sales_train.item_price, kde=True, bins=50, ax=axs[1]).set(\n",
    "    title='Distribution of Item Price per Day')\n",
    "\n",
    "sns.histplot(data = sales_train ,x=sales_train.item_cnt_day, kde=False, bins=10, ax=axs[2]).set(\n",
    "    title='Distribution of Item Count per Day')"
   ]
  },
  {
   "cell_type": "code",
   "execution_count": null,
   "id": "c5c9599b",
   "metadata": {},
   "outputs": [],
   "source": []
  },
  {
   "cell_type": "code",
   "execution_count": 123,
   "id": "8d2bc1d2",
   "metadata": {},
   "outputs": [],
   "source": [
    "sales_by_month = sales_train.groupby('month').total_item_cost.sum()"
   ]
  },
  {
   "cell_type": "code",
   "execution_count": 124,
   "id": "945ec50c",
   "metadata": {},
   "outputs": [
    {
     "data": {
      "text/plain": [
       "[Text(0.5, 1.0, 'Distribution of Sales over Month')]"
      ]
     },
     "execution_count": 124,
     "metadata": {},
     "output_type": "execute_result"
    },
    {
     "data": {
      "image/png": "[encoded data removed]",
      "text/plain": [
       "<Figure size 640x480 with 1 Axes>"
      ]
     },
     "metadata": {},
     "output_type": "display_data"
    }
   ],
   "source": [
    "plt.xticks(rotation=90)\n",
    "sns.barplot(x=sales_by_month.index.astype(dtype='str'), y=sales_by_month).set(\n",
    "    title='Distribution of Sales over Month')"
   ]
  },
  {
   "cell_type": "markdown",
   "id": "d865b32f",
   "metadata": {},
   "source": [
    "We see the expected sales peaks in December, when everyone buys gifts for the holidays. \n",
    "\n",
    "Also according to the description our training data was caming daily from January 2013 to October 2015. Thus data from November 2015 to December 2015 should not be taked into account. But this data can be used lately for validation our model"
   ]
  },
  {
   "cell_type": "code",
   "execution_count": 125,
   "id": "abd1ceeb",
   "metadata": {},
   "outputs": [],
   "source": [
    "sales_train = sales_train[sales_train.month < '2015-11']"
   ]
  },
  {
   "cell_type": "markdown",
   "id": "f7a2e0b1",
   "metadata": {},
   "source": [
    "### Shops"
   ]
  },
  {
   "cell_type": "code",
   "execution_count": 126,
   "id": "068a6ad4",
   "metadata": {},
   "outputs": [],
   "source": [
    "shops = data['shops.csv'].copy()"
   ]
  },
  {
   "cell_type": "code",
   "execution_count": 127,
   "id": "a0ffc4e6",
   "metadata": {},
   "outputs": [],
   "source": [
    "assert len(shops) == len(shops.shop_id.unique())"
   ]
  },
  {
   "cell_type": "code",
   "execution_count": 128,
   "id": "8697ece1",
   "metadata": {},
   "outputs": [
    {
     "data": {
      "text/html": [
       "<div>\n",
       "<style scoped>\n",
       "    .dataframe tbody tr th:only-of-type {\n",
       "        vertical-align: middle;\n",
       "    }\n",
       "\n",
       "    .dataframe tbody tr th {\n",
       "        vertical-align: top;\n",
       "    }\n",
       "\n",
       "    .dataframe thead th {\n",
       "        text-align: right;\n",
       "    }\n",
       "</style>\n",
       "<table border=\"1\" class=\"dataframe\">\n",
       "  <thead>\n",
       "    <tr style=\"text-align: right;\">\n",
       "      <th></th>\n",
       "      <th>shop_name</th>\n",
       "      <th>shop_id</th>\n",
       "    </tr>\n",
       "  </thead>\n",
       "  <tbody>\n",
       "    <tr>\n",
       "      <th>10</th>\n",
       "      <td>Жуковский ул. Чкалова 39м?</td>\n",
       "      <td>10</td>\n",
       "    </tr>\n",
       "    <tr>\n",
       "      <th>11</th>\n",
       "      <td>Жуковский ул. Чкалова 39м²</td>\n",
       "      <td>11</td>\n",
       "    </tr>\n",
       "  </tbody>\n",
       "</table>\n",
       "</div>"
      ],
      "text/plain": [
       "                     shop_name  shop_id\n",
       "10  Жуковский ул. Чкалова 39м?       10\n",
       "11  Жуковский ул. Чкалова 39м²       11"
      ]
     },
     "execution_count": 128,
     "metadata": {},
     "output_type": "execute_result"
    }
   ],
   "source": [
    "shops[10:12]"
   ]
  },
  {
   "cell_type": "markdown",
   "id": "c7b15073",
   "metadata": {},
   "source": [
    "We have a shop with a typo, we can map it into one shop"
   ]
  },
  {
   "cell_type": "code",
   "execution_count": 129,
   "id": "4e0d061b",
   "metadata": {},
   "outputs": [],
   "source": [
    "shops = shops[shops.shop_id != 10]"
   ]
  },
  {
   "cell_type": "code",
   "execution_count": 130,
   "id": "cdf62ee5",
   "metadata": {},
   "outputs": [],
   "source": [
    "sales_train.loc[sales_train.shop_id == 10, 'shop_id'] = 11"
   ]
  },
  {
   "cell_type": "code",
   "execution_count": null,
   "id": "054aa187",
   "metadata": {},
   "outputs": [],
   "source": []
  },
  {
   "cell_type": "code",
   "execution_count": 131,
   "id": "5c169d38",
   "metadata": {},
   "outputs": [],
   "source": [
    "shops.shop_name = shops.shop_name.map(lambda x: x.lstrip('!'))"
   ]
  },
  {
   "cell_type": "code",
   "execution_count": 132,
   "id": "c91fc1b3",
   "metadata": {},
   "outputs": [],
   "source": [
    "shops[['city', 'shop_name']] = shops['shop_name'].str.split(' ', n=1, expand=True)"
   ]
  },
  {
   "cell_type": "code",
   "execution_count": 133,
   "id": "836e5bbf",
   "metadata": {},
   "outputs": [],
   "source": [
    "number_of_shops_in_city = shops.groupby('city').count().shop_id"
   ]
  },
  {
   "cell_type": "code",
   "execution_count": 134,
   "id": "2ccc4107",
   "metadata": {
    "scrolled": true
   },
   "outputs": [
    {
     "data": {
      "text/plain": [
       "<AxesSubplot: xlabel='city'>"
      ]
     },
     "execution_count": 134,
     "metadata": {},
     "output_type": "execute_result"
    },
    {
     "data": {
      "image/png": "[encoded data removed]",
      "text/plain": [
       "<Figure size 640x480 with 1 Axes>"
      ]
     },
     "metadata": {},
     "output_type": "display_data"
    }
   ],
   "source": [
    "plt.xticks(rotation=90)\n",
    "sns.barplot(x=number_of_shops_in_city.index, y=number_of_shops_in_city.values)"
   ]
  },
  {
   "cell_type": "markdown",
   "id": "29632a76",
   "metadata": {},
   "source": [
    "It cannot be considered outlier cause it is logical capital to have the biggest amount of shops"
   ]
  },
  {
   "cell_type": "markdown",
   "id": "8c5bb6ec",
   "metadata": {},
   "source": [
    "### Sales_Train (removing duplicated rows)"
   ]
  },
  {
   "cell_type": "code",
   "execution_count": 144,
   "id": "5e38020b",
   "metadata": {},
   "outputs": [
    {
     "data": {
      "text/html": [
       "<div>\n",
       "<style scoped>\n",
       "    .dataframe tbody tr th:only-of-type {\n",
       "        vertical-align: middle;\n",
       "    }\n",
       "\n",
       "    .dataframe tbody tr th {\n",
       "        vertical-align: top;\n",
       "    }\n",
       "\n",
       "    .dataframe thead th {\n",
       "        text-align: right;\n",
       "    }\n",
       "</style>\n",
       "<table border=\"1\" class=\"dataframe\">\n",
       "  <thead>\n",
       "    <tr style=\"text-align: right;\">\n",
       "      <th></th>\n",
       "      <th>date</th>\n",
       "      <th>date_block_num</th>\n",
       "      <th>shop_id</th>\n",
       "      <th>item_id</th>\n",
       "      <th>item_price</th>\n",
       "      <th>item_cnt_day</th>\n",
       "      <th>month</th>\n",
       "      <th>total_item_cost</th>\n",
       "    </tr>\n",
       "  </thead>\n",
       "  <tbody>\n",
       "    <tr>\n",
       "      <th>76962</th>\n",
       "      <td>2013-05-01</td>\n",
       "      <td>0</td>\n",
       "      <td>54</td>\n",
       "      <td>20130</td>\n",
       "      <td>149.0</td>\n",
       "      <td>1.0</td>\n",
       "      <td>2013-05</td>\n",
       "      <td>149.0</td>\n",
       "    </tr>\n",
       "    <tr>\n",
       "      <th>1435367</th>\n",
       "      <td>2014-02-23</td>\n",
       "      <td>13</td>\n",
       "      <td>50</td>\n",
       "      <td>3423</td>\n",
       "      <td>999.0</td>\n",
       "      <td>1.0</td>\n",
       "      <td>2014-02</td>\n",
       "      <td>999.0</td>\n",
       "    </tr>\n",
       "    <tr>\n",
       "      <th>1496766</th>\n",
       "      <td>2014-03-23</td>\n",
       "      <td>14</td>\n",
       "      <td>21</td>\n",
       "      <td>3423</td>\n",
       "      <td>999.0</td>\n",
       "      <td>1.0</td>\n",
       "      <td>2014-03</td>\n",
       "      <td>999.0</td>\n",
       "    </tr>\n",
       "    <tr>\n",
       "      <th>1671873</th>\n",
       "      <td>2014-01-05</td>\n",
       "      <td>16</td>\n",
       "      <td>50</td>\n",
       "      <td>3423</td>\n",
       "      <td>999.0</td>\n",
       "      <td>1.0</td>\n",
       "      <td>2014-01</td>\n",
       "      <td>999.0</td>\n",
       "    </tr>\n",
       "    <tr>\n",
       "      <th>1866340</th>\n",
       "      <td>2014-12-07</td>\n",
       "      <td>18</td>\n",
       "      <td>25</td>\n",
       "      <td>3423</td>\n",
       "      <td>999.0</td>\n",
       "      <td>1.0</td>\n",
       "      <td>2014-12</td>\n",
       "      <td>999.0</td>\n",
       "    </tr>\n",
       "    <tr>\n",
       "      <th>2198566</th>\n",
       "      <td>2014-12-31</td>\n",
       "      <td>23</td>\n",
       "      <td>42</td>\n",
       "      <td>21619</td>\n",
       "      <td>499.0</td>\n",
       "      <td>1.0</td>\n",
       "      <td>2014-12</td>\n",
       "      <td>499.0</td>\n",
       "    </tr>\n",
       "  </tbody>\n",
       "</table>\n",
       "</div>"
      ],
      "text/plain": [
       "              date  date_block_num  shop_id  item_id  item_price  \\\n",
       "76962   2013-05-01               0       54    20130       149.0   \n",
       "1435367 2014-02-23              13       50     3423       999.0   \n",
       "1496766 2014-03-23              14       21     3423       999.0   \n",
       "1671873 2014-01-05              16       50     3423       999.0   \n",
       "1866340 2014-12-07              18       25     3423       999.0   \n",
       "2198566 2014-12-31              23       42    21619       499.0   \n",
       "\n",
       "         item_cnt_day    month  total_item_cost  \n",
       "76962             1.0  2013-05            149.0  \n",
       "1435367           1.0  2014-02            999.0  \n",
       "1496766           1.0  2014-03            999.0  \n",
       "1671873           1.0  2014-01            999.0  \n",
       "1866340           1.0  2014-12            999.0  \n",
       "2198566           1.0  2014-12            499.0  "
      ]
     },
     "execution_count": 144,
     "metadata": {},
     "output_type": "execute_result"
    }
   ],
   "source": [
    "sales_train[sales_train[\n",
    "        ['date', 'date_block_num', 'shop_id', 'item_id', 'item_price', 'item_cnt_day']\n",
    "    ].duplicated()]"
   ]
  },
  {
   "cell_type": "code",
   "execution_count": 148,
   "id": "d5f02f3c",
   "metadata": {},
   "outputs": [],
   "source": [
    "sales_train = sales_train.drop_duplicates(\n",
    "    subset=['date', 'date_block_num', 'shop_id', 'item_id', 'item_price', 'item_cnt_day'], \n",
    "    keep='last')"
   ]
  },
  {
   "cell_type": "markdown",
   "id": "d517aa37",
   "metadata": {},
   "source": [
    "Remove duplicated sales within a day"
   ]
  },
  {
   "cell_type": "markdown",
   "id": "e314864e",
   "metadata": {},
   "source": [
    "### Test"
   ]
  },
  {
   "cell_type": "code",
   "execution_count": 135,
   "id": "457df1c9",
   "metadata": {},
   "outputs": [],
   "source": [
    "test = data['test.csv'].copy()"
   ]
  },
  {
   "cell_type": "code",
   "execution_count": 136,
   "id": "99ed9ba3",
   "metadata": {},
   "outputs": [],
   "source": [
    "missing_shops = [s for s in test[\"shop_id\"].unique() if s not in sales_train[\"shop_id\"].unique()]\n",
    "missing_items = [i for i in test[\"item_id\"].unique() if i not in sales_train[\"item_id\"].unique()]\n",
    "\n",
    "missing_shops_test = [s for s in sales_train[\"shop_id\"].unique() if s not in test[\"shop_id\"].unique()]\n",
    "missing_items_test = [i for i in sales_train[\"item_id\"].unique() if i not in test[\"item_id\"].unique()]"
   ]
  },
  {
   "cell_type": "code",
   "execution_count": 137,
   "id": "7e5a0fb1",
   "metadata": {},
   "outputs": [
    {
     "name": "stdout",
     "output_type": "stream",
     "text": [
      "Number of missing shops in train:  1\n",
      "Number of missing items in train:  409\n",
      "\n",
      "Number of missing shops in test:  18\n",
      "Number of missing items in test:  16846\n"
     ]
    }
   ],
   "source": [
    "print('Number of missing shops in train: ', len(missing_shops))\n",
    "print('Number of missing items in train: ', len(missing_items))\n",
    "\n",
    "print()\n",
    "\n",
    "print('Number of missing shops in test: ', len(missing_shops_test))\n",
    "print('Number of missing items in test: ', len(missing_items_test))"
   ]
  },
  {
   "cell_type": "code",
   "execution_count": 138,
   "id": "797c8fdf",
   "metadata": {},
   "outputs": [
    {
     "name": "stdout",
     "output_type": "stream",
     "text": [
      "Number of distinct shops in train:  59\n",
      "Number of distinct shops in test:  42\n",
      "\n",
      "Number of distinct items in train:  21537\n",
      "Number of distinct items in test:  5100\n"
     ]
    }
   ],
   "source": [
    "print('Number of distinct shops in train: ', len(sales_train[\"shop_id\"].unique()))\n",
    "print('Number of distinct shops in test: ', len(test[\"shop_id\"].unique()))\n",
    "\n",
    "print()\n",
    "\n",
    "print('Number of distinct items in train: ', len(sales_train[\"item_id\"].unique()))\n",
    "print('Number of distinct items in test: ', len(test[\"item_id\"].unique()))"
   ]
  },
  {
   "cell_type": "code",
   "execution_count": 139,
   "id": "8c69a080",
   "metadata": {},
   "outputs": [],
   "source": [
    "test.loc[test.shop_id == 10, 'shop_id'] = 11"
   ]
  },
  {
   "cell_type": "markdown",
   "id": "efe0e381",
   "metadata": {},
   "source": [
    "### Items"
   ]
  },
  {
   "cell_type": "code",
   "execution_count": 182,
   "id": "9dce4989",
   "metadata": {},
   "outputs": [
    {
     "data": {
      "text/html": [
       "<div>\n",
       "<style scoped>\n",
       "    .dataframe tbody tr th:only-of-type {\n",
       "        vertical-align: middle;\n",
       "    }\n",
       "\n",
       "    .dataframe tbody tr th {\n",
       "        vertical-align: top;\n",
       "    }\n",
       "\n",
       "    .dataframe thead th {\n",
       "        text-align: right;\n",
       "    }\n",
       "</style>\n",
       "<table border=\"1\" class=\"dataframe\">\n",
       "  <thead>\n",
       "    <tr style=\"text-align: right;\">\n",
       "      <th></th>\n",
       "      <th>item_name</th>\n",
       "      <th>item_id</th>\n",
       "      <th>item_category_id</th>\n",
       "    </tr>\n",
       "  </thead>\n",
       "  <tbody>\n",
       "    <tr>\n",
       "      <th>0</th>\n",
       "      <td>! ВО ВЛАСТИ НАВАЖДЕНИЯ (ПЛАСТ.)         D</td>\n",
       "      <td>0</td>\n",
       "      <td>40</td>\n",
       "    </tr>\n",
       "    <tr>\n",
       "      <th>1</th>\n",
       "      <td>!ABBYY FineReader 12 Professional Edition Full...</td>\n",
       "      <td>1</td>\n",
       "      <td>76</td>\n",
       "    </tr>\n",
       "    <tr>\n",
       "      <th>2</th>\n",
       "      <td>***В ЛУЧАХ СЛАВЫ   (UNV)                    D</td>\n",
       "      <td>2</td>\n",
       "      <td>40</td>\n",
       "    </tr>\n",
       "    <tr>\n",
       "      <th>3</th>\n",
       "      <td>***ГОЛУБАЯ ВОЛНА  (Univ)                      D</td>\n",
       "      <td>3</td>\n",
       "      <td>40</td>\n",
       "    </tr>\n",
       "    <tr>\n",
       "      <th>4</th>\n",
       "      <td>***КОРОБКА (СТЕКЛО)                       D</td>\n",
       "      <td>4</td>\n",
       "      <td>40</td>\n",
       "    </tr>\n",
       "  </tbody>\n",
       "</table>\n",
       "</div>"
      ],
      "text/plain": [
       "                                           item_name  item_id  \\\n",
       "0          ! ВО ВЛАСТИ НАВАЖДЕНИЯ (ПЛАСТ.)         D        0   \n",
       "1  !ABBYY FineReader 12 Professional Edition Full...        1   \n",
       "2      ***В ЛУЧАХ СЛАВЫ   (UNV)                    D        2   \n",
       "3    ***ГОЛУБАЯ ВОЛНА  (Univ)                      D        3   \n",
       "4        ***КОРОБКА (СТЕКЛО)                       D        4   \n",
       "\n",
       "   item_category_id  \n",
       "0                40  \n",
       "1                76  \n",
       "2                40  \n",
       "3                40  \n",
       "4                40  "
      ]
     },
     "execution_count": 182,
     "metadata": {},
     "output_type": "execute_result"
    }
   ],
   "source": [
    "items = data['items.csv'].copy()\n",
    "items.head(5)"
   ]
  },
  {
   "cell_type": "code",
   "execution_count": 183,
   "id": "35463a53",
   "metadata": {},
   "outputs": [],
   "source": [
    "items.item_name = items.item_name.map(lambda x: x.lstrip('!*/'))"
   ]
  },
  {
   "cell_type": "code",
   "execution_count": 184,
   "id": "269000dc",
   "metadata": {},
   "outputs": [],
   "source": [
    "assert(len(items) == items.item_id.nunique())"
   ]
  },
  {
   "cell_type": "code",
   "execution_count": 185,
   "id": "c5d5b90c",
   "metadata": {},
   "outputs": [
    {
     "ename": "AssertionError",
     "evalue": "",
     "output_type": "error",
     "traceback": [
      "\u001b[0;31m---------------------------------------------------------------------------\u001b[0m",
      "\u001b[0;31mAssertionError\u001b[0m                            Traceback (most recent call last)",
      "\u001b[0;32m/var/folders/sv/p9rs11c92tb3nwjdsqq8ggxw0000gn/T/ipykernel_39437/2338796845.py\u001b[0m in \u001b[0;36m<module>\u001b[0;34m\u001b[0m\n\u001b[0;32m----> 1\u001b[0;31m \u001b[0;32massert\u001b[0m\u001b[0;34m(\u001b[0m\u001b[0mlen\u001b[0m\u001b[0;34m(\u001b[0m\u001b[0mitems\u001b[0m\u001b[0;34m)\u001b[0m \u001b[0;34m==\u001b[0m \u001b[0mlen\u001b[0m\u001b[0;34m(\u001b[0m\u001b[0mitems\u001b[0m\u001b[0;34m.\u001b[0m\u001b[0mitem_name\u001b[0m\u001b[0;34m.\u001b[0m\u001b[0mmap\u001b[0m\u001b[0;34m(\u001b[0m\u001b[0;32mlambda\u001b[0m \u001b[0mx\u001b[0m\u001b[0;34m:\u001b[0m \u001b[0mx\u001b[0m\u001b[0;34m.\u001b[0m\u001b[0mlower\u001b[0m\u001b[0;34m(\u001b[0m\u001b[0;34m)\u001b[0m\u001b[0;34m)\u001b[0m\u001b[0;34m.\u001b[0m\u001b[0munique\u001b[0m\u001b[0;34m(\u001b[0m\u001b[0;34m)\u001b[0m\u001b[0;34m)\u001b[0m\u001b[0;34m)\u001b[0m\u001b[0;34m\u001b[0m\u001b[0;34m\u001b[0m\u001b[0m\n\u001b[0m",
      "\u001b[0;31mAssertionError\u001b[0m: "
     ]
    }
   ],
   "source": [
    "assert(len(items) == len(items.item_name.map(lambda x: x.lower()).unique()))"
   ]
  },
  {
   "cell_type": "markdown",
   "id": "928754e0",
   "metadata": {},
   "source": [
    "There are some same items names, maybe they can be mapped to one item"
   ]
  },
  {
   "cell_type": "code",
   "execution_count": null,
   "id": "8c84aef6",
   "metadata": {},
   "outputs": [],
   "source": []
  },
  {
   "cell_type": "code",
   "execution_count": 186,
   "id": "063cc3d5",
   "metadata": {},
   "outputs": [
    {
     "data": {
      "text/html": [
       "<div>\n",
       "<style scoped>\n",
       "    .dataframe tbody tr th:only-of-type {\n",
       "        vertical-align: middle;\n",
       "    }\n",
       "\n",
       "    .dataframe tbody tr th {\n",
       "        vertical-align: top;\n",
       "    }\n",
       "\n",
       "    .dataframe thead th {\n",
       "        text-align: right;\n",
       "    }\n",
       "</style>\n",
       "<table border=\"1\" class=\"dataframe\">\n",
       "  <thead>\n",
       "    <tr style=\"text-align: right;\">\n",
       "      <th></th>\n",
       "      <th>item_name</th>\n",
       "      <th>item_id</th>\n",
       "      <th>item_category_id</th>\n",
       "    </tr>\n",
       "  </thead>\n",
       "  <tbody>\n",
       "    <tr>\n",
       "      <th>8248</th>\n",
       "      <td>АЛЫЕ ПАРУСА (регион)</td>\n",
       "      <td>8248</td>\n",
       "      <td>40</td>\n",
       "    </tr>\n",
       "    <tr>\n",
       "      <th>8290</th>\n",
       "      <td>АНГЛИЙСКИЙ ВМЕСТЕ С ХРЮШЕЙ И… ч. 1 (регион)</td>\n",
       "      <td>8290</td>\n",
       "      <td>40</td>\n",
       "    </tr>\n",
       "    <tr>\n",
       "      <th>8299</th>\n",
       "      <td>АНДРЕЙ РУБЛЕВ (регион)</td>\n",
       "      <td>8299</td>\n",
       "      <td>40</td>\n",
       "    </tr>\n",
       "    <tr>\n",
       "      <th>8423</th>\n",
       "      <td>АФОНЯ (регион)</td>\n",
       "      <td>8423</td>\n",
       "      <td>40</td>\n",
       "    </tr>\n",
       "    <tr>\n",
       "      <th>8617</th>\n",
       "      <td>БАРБИ В РОЛИ ПРИНЦЕССЫ ОСТРОВА (регион)</td>\n",
       "      <td>8617</td>\n",
       "      <td>40</td>\n",
       "    </tr>\n",
       "  </tbody>\n",
       "</table>\n",
       "</div>"
      ],
      "text/plain": [
       "                                        item_name  item_id  item_category_id\n",
       "8248                         АЛЫЕ ПАРУСА (регион)     8248                40\n",
       "8290  АНГЛИЙСКИЙ ВМЕСТЕ С ХРЮШЕЙ И… ч. 1 (регион)     8290                40\n",
       "8299                       АНДРЕЙ РУБЛЕВ (регион)     8299                40\n",
       "8423                               АФОНЯ (регион)     8423                40\n",
       "8617      БАРБИ В РОЛИ ПРИНЦЕССЫ ОСТРОВА (регион)     8617                40"
      ]
     },
     "execution_count": 186,
     "metadata": {},
     "output_type": "execute_result"
    }
   ],
   "source": [
    "same_items_regargless_case = items[items.item_name.map(lambda x: x.lower()).duplicated()]\n",
    "same_items_regargless_case.head(5)"
   ]
  },
  {
   "cell_type": "code",
   "execution_count": 187,
   "id": "debd1417",
   "metadata": {},
   "outputs": [
    {
     "name": "stdout",
     "output_type": "stream",
     "text": [
      "Number of same items (regardless of word's case):  60\n"
     ]
    }
   ],
   "source": [
    "print(\"Number of same items (regardless of word's case): \", same_items_regargless_case.shape[0])"
   ]
  },
  {
   "cell_type": "code",
   "execution_count": null,
   "id": "5760361e",
   "metadata": {},
   "outputs": [],
   "source": []
  },
  {
   "cell_type": "code",
   "execution_count": 188,
   "id": "00509699",
   "metadata": {},
   "outputs": [
    {
     "name": "stdout",
     "output_type": "stream",
     "text": [
      "Fully same items:\n"
     ]
    },
    {
     "data": {
      "text/html": [
       "<div>\n",
       "<style scoped>\n",
       "    .dataframe tbody tr th:only-of-type {\n",
       "        vertical-align: middle;\n",
       "    }\n",
       "\n",
       "    .dataframe tbody tr th {\n",
       "        vertical-align: top;\n",
       "    }\n",
       "\n",
       "    .dataframe thead th {\n",
       "        text-align: right;\n",
       "    }\n",
       "</style>\n",
       "<table border=\"1\" class=\"dataframe\">\n",
       "  <thead>\n",
       "    <tr style=\"text-align: right;\">\n",
       "      <th></th>\n",
       "      <th>item_name</th>\n",
       "      <th>size</th>\n",
       "    </tr>\n",
       "  </thead>\n",
       "  <tbody>\n",
       "    <tr>\n",
       "      <th>14673</th>\n",
       "      <td>МИХЕЙ И ДЖУМАНДЖИ  Сука любовь</td>\n",
       "      <td>2</td>\n",
       "    </tr>\n",
       "  </tbody>\n",
       "</table>\n",
       "</div>"
      ],
      "text/plain": [
       "                            item_name  size\n",
       "14673  МИХЕЙ И ДЖУМАНДЖИ  Сука любовь     2"
      ]
     },
     "metadata": {},
     "output_type": "display_data"
    }
   ],
   "source": [
    "print('Fully same items:')\n",
    "fully_same = items.groupby(items.item_name, as_index=False).size().query('size > 1')\n",
    "display(fully_same)"
   ]
  },
  {
   "cell_type": "markdown",
   "id": "ad0de44b",
   "metadata": {},
   "source": [
    "This items we can replace with one item"
   ]
  },
  {
   "cell_type": "code",
   "execution_count": 189,
   "id": "b80c538d",
   "metadata": {},
   "outputs": [],
   "source": [
    "fully_same_item_names = fully_same.item_name.values"
   ]
  },
  {
   "cell_type": "code",
   "execution_count": 190,
   "id": "aa9a8f92",
   "metadata": {},
   "outputs": [],
   "source": [
    "fully_same_item_ids = items[items.item_name.isin(fully_same_item_names)].item_id.values"
   ]
  },
  {
   "cell_type": "code",
   "execution_count": 191,
   "id": "de6948d0",
   "metadata": {},
   "outputs": [
    {
     "data": {
      "text/html": [
       "<div>\n",
       "<style scoped>\n",
       "    .dataframe tbody tr th:only-of-type {\n",
       "        vertical-align: middle;\n",
       "    }\n",
       "\n",
       "    .dataframe tbody tr th {\n",
       "        vertical-align: top;\n",
       "    }\n",
       "\n",
       "    .dataframe thead th {\n",
       "        text-align: right;\n",
       "    }\n",
       "</style>\n",
       "<table border=\"1\" class=\"dataframe\">\n",
       "  <thead>\n",
       "    <tr style=\"text-align: right;\">\n",
       "      <th></th>\n",
       "      <th>date</th>\n",
       "      <th>date_block_num</th>\n",
       "      <th>shop_id</th>\n",
       "      <th>item_id</th>\n",
       "      <th>item_price</th>\n",
       "      <th>item_cnt_day</th>\n",
       "      <th>month</th>\n",
       "      <th>total_item_cost</th>\n",
       "    </tr>\n",
       "  </thead>\n",
       "  <tbody>\n",
       "    <tr>\n",
       "      <th>48191</th>\n",
       "      <td>2013-01-30</td>\n",
       "      <td>0</td>\n",
       "      <td>15</td>\n",
       "      <td>14690</td>\n",
       "      <td>199.0</td>\n",
       "      <td>1.0</td>\n",
       "      <td>2013-01</td>\n",
       "      <td>199.0</td>\n",
       "    </tr>\n",
       "    <tr>\n",
       "      <th>1863891</th>\n",
       "      <td>2014-07-22</td>\n",
       "      <td>18</td>\n",
       "      <td>25</td>\n",
       "      <td>14690</td>\n",
       "      <td>199.0</td>\n",
       "      <td>1.0</td>\n",
       "      <td>2014-07</td>\n",
       "      <td>199.0</td>\n",
       "    </tr>\n",
       "    <tr>\n",
       "      <th>1858929</th>\n",
       "      <td>2014-07-28</td>\n",
       "      <td>18</td>\n",
       "      <td>21</td>\n",
       "      <td>14690</td>\n",
       "      <td>199.0</td>\n",
       "      <td>1.0</td>\n",
       "      <td>2014-07</td>\n",
       "      <td>199.0</td>\n",
       "    </tr>\n",
       "    <tr>\n",
       "      <th>1843598</th>\n",
       "      <td>2014-07-26</td>\n",
       "      <td>18</td>\n",
       "      <td>4</td>\n",
       "      <td>14690</td>\n",
       "      <td>199.0</td>\n",
       "      <td>1.0</td>\n",
       "      <td>2014-07</td>\n",
       "      <td>199.0</td>\n",
       "    </tr>\n",
       "    <tr>\n",
       "      <th>1839971</th>\n",
       "      <td>2014-07-19</td>\n",
       "      <td>18</td>\n",
       "      <td>57</td>\n",
       "      <td>14690</td>\n",
       "      <td>199.0</td>\n",
       "      <td>1.0</td>\n",
       "      <td>2014-07</td>\n",
       "      <td>199.0</td>\n",
       "    </tr>\n",
       "  </tbody>\n",
       "</table>\n",
       "</div>"
      ],
      "text/plain": [
       "              date  date_block_num  shop_id  item_id  item_price  \\\n",
       "48191   2013-01-30               0       15    14690       199.0   \n",
       "1863891 2014-07-22              18       25    14690       199.0   \n",
       "1858929 2014-07-28              18       21    14690       199.0   \n",
       "1843598 2014-07-26              18        4    14690       199.0   \n",
       "1839971 2014-07-19              18       57    14690       199.0   \n",
       "\n",
       "         item_cnt_day    month  total_item_cost  \n",
       "48191             1.0  2013-01            199.0  \n",
       "1863891           1.0  2014-07            199.0  \n",
       "1858929           1.0  2014-07            199.0  \n",
       "1843598           1.0  2014-07            199.0  \n",
       "1839971           1.0  2014-07            199.0  "
      ]
     },
     "execution_count": 191,
     "metadata": {},
     "output_type": "execute_result"
    }
   ],
   "source": [
    "sales_train[sales_train.item_id.isin(fully_same_item_ids)].sort_values('item_id').head(5)"
   ]
  },
  {
   "cell_type": "code",
   "execution_count": 192,
   "id": "71923ed3",
   "metadata": {},
   "outputs": [
    {
     "data": {
      "text/html": [
       "<div>\n",
       "<style scoped>\n",
       "    .dataframe tbody tr th:only-of-type {\n",
       "        vertical-align: middle;\n",
       "    }\n",
       "\n",
       "    .dataframe tbody tr th {\n",
       "        vertical-align: top;\n",
       "    }\n",
       "\n",
       "    .dataframe thead th {\n",
       "        text-align: right;\n",
       "    }\n",
       "</style>\n",
       "<table border=\"1\" class=\"dataframe\">\n",
       "  <thead>\n",
       "    <tr style=\"text-align: right;\">\n",
       "      <th></th>\n",
       "      <th>ID</th>\n",
       "      <th>shop_id</th>\n",
       "      <th>item_id</th>\n",
       "    </tr>\n",
       "  </thead>\n",
       "  <tbody>\n",
       "    <tr>\n",
       "      <th>2171</th>\n",
       "      <td>2171</td>\n",
       "      <td>5</td>\n",
       "      <td>14690</td>\n",
       "    </tr>\n",
       "    <tr>\n",
       "      <th>119471</th>\n",
       "      <td>119471</td>\n",
       "      <td>53</td>\n",
       "      <td>14690</td>\n",
       "    </tr>\n",
       "    <tr>\n",
       "      <th>124571</th>\n",
       "      <td>124571</td>\n",
       "      <td>52</td>\n",
       "      <td>14690</td>\n",
       "    </tr>\n",
       "    <tr>\n",
       "      <th>129671</th>\n",
       "      <td>129671</td>\n",
       "      <td>47</td>\n",
       "      <td>14690</td>\n",
       "    </tr>\n",
       "    <tr>\n",
       "      <th>134771</th>\n",
       "      <td>134771</td>\n",
       "      <td>48</td>\n",
       "      <td>14690</td>\n",
       "    </tr>\n",
       "  </tbody>\n",
       "</table>\n",
       "</div>"
      ],
      "text/plain": [
       "            ID  shop_id  item_id\n",
       "2171      2171        5    14690\n",
       "119471  119471       53    14690\n",
       "124571  124571       52    14690\n",
       "129671  129671       47    14690\n",
       "134771  134771       48    14690"
      ]
     },
     "execution_count": 192,
     "metadata": {},
     "output_type": "execute_result"
    }
   ],
   "source": [
    "test[test.item_id.isin(fully_same_item_ids)].sort_values('item_id').head(5)"
   ]
  },
  {
   "cell_type": "markdown",
   "id": "5db86117",
   "metadata": {},
   "source": [
    "There is only one presence of one of these dublicates, so we can just drop it"
   ]
  },
  {
   "cell_type": "code",
   "execution_count": 193,
   "id": "6f51c8d3",
   "metadata": {},
   "outputs": [],
   "source": [
    "items = items[items.item_id != 12]"
   ]
  },
  {
   "cell_type": "code",
   "execution_count": 194,
   "id": "0e36e4c5",
   "metadata": {},
   "outputs": [],
   "source": [
    "sales_train = sales_train[sales_train.item_id != 12]"
   ]
  },
  {
   "cell_type": "code",
   "execution_count": null,
   "id": "2c150c68",
   "metadata": {},
   "outputs": [],
   "source": []
  },
  {
   "cell_type": "markdown",
   "id": "c6ab2bb2",
   "metadata": {},
   "source": [
    "Now let's deal with case-sensitive dublicate items"
   ]
  },
  {
   "cell_type": "code",
   "execution_count": 195,
   "id": "a6302f15",
   "metadata": {},
   "outputs": [
    {
     "data": {
      "text/html": [
       "<div>\n",
       "<style scoped>\n",
       "    .dataframe tbody tr th:only-of-type {\n",
       "        vertical-align: middle;\n",
       "    }\n",
       "\n",
       "    .dataframe tbody tr th {\n",
       "        vertical-align: top;\n",
       "    }\n",
       "\n",
       "    .dataframe thead th {\n",
       "        text-align: right;\n",
       "    }\n",
       "</style>\n",
       "<table border=\"1\" class=\"dataframe\">\n",
       "  <thead>\n",
       "    <tr style=\"text-align: right;\">\n",
       "      <th></th>\n",
       "      <th>item_name</th>\n",
       "      <th>item_id</th>\n",
       "      <th>item_category_id</th>\n",
       "    </tr>\n",
       "  </thead>\n",
       "  <tbody>\n",
       "    <tr>\n",
       "      <th>18718</th>\n",
       "      <td>СКАЗКИ НА НОЧЬ (Регион)</td>\n",
       "      <td>18718</td>\n",
       "      <td>40</td>\n",
       "    </tr>\n",
       "    <tr>\n",
       "      <th>18719</th>\n",
       "      <td>СКАЗКИ НА НОЧЬ (регион)</td>\n",
       "      <td>18719</td>\n",
       "      <td>40</td>\n",
       "    </tr>\n",
       "  </tbody>\n",
       "</table>\n",
       "</div>"
      ],
      "text/plain": [
       "                     item_name  item_id  item_category_id\n",
       "18718  СКАЗКИ НА НОЧЬ (Регион)    18718                40\n",
       "18719  СКАЗКИ НА НОЧЬ (регион)    18719                40"
      ]
     },
     "execution_count": 195,
     "metadata": {},
     "output_type": "execute_result"
    }
   ],
   "source": [
    "items[items.item_name.map(lambda x: x.lower()) == 'СКАЗКИ НА НОЧЬ (регион)'.lower()]"
   ]
  },
  {
   "cell_type": "markdown",
   "id": "4514464d",
   "metadata": {},
   "source": [
    "Let's find shops which use items with postfix \"регион\" in lower and upper case"
   ]
  },
  {
   "cell_type": "code",
   "execution_count": 196,
   "id": "bd1ce1a9",
   "metadata": {},
   "outputs": [],
   "source": [
    "same_items_regargless_case_names = same_items_regargless_case[~same_items_regargless_case.item_name.isin(\n",
    "    fully_same_item_names)].item_name"
   ]
  },
  {
   "cell_type": "code",
   "execution_count": 197,
   "id": "f94af86f",
   "metadata": {},
   "outputs": [],
   "source": [
    "same_items = items[items.item_name.map(lambda x: x.lower()).isin(\n",
    "                same_items_regargless_case_names.map(lambda x: x.lower()))]"
   ]
  },
  {
   "cell_type": "code",
   "execution_count": 198,
   "id": "eb44d3f5",
   "metadata": {},
   "outputs": [
    {
     "data": {
      "text/html": [
       "<div>\n",
       "<style scoped>\n",
       "    .dataframe tbody tr th:only-of-type {\n",
       "        vertical-align: middle;\n",
       "    }\n",
       "\n",
       "    .dataframe tbody tr th {\n",
       "        vertical-align: top;\n",
       "    }\n",
       "\n",
       "    .dataframe thead th {\n",
       "        text-align: right;\n",
       "    }\n",
       "</style>\n",
       "<table border=\"1\" class=\"dataframe\">\n",
       "  <thead>\n",
       "    <tr style=\"text-align: right;\">\n",
       "      <th></th>\n",
       "      <th>item_name</th>\n",
       "      <th>item_id</th>\n",
       "      <th>item_category_id</th>\n",
       "    </tr>\n",
       "  </thead>\n",
       "  <tbody>\n",
       "    <tr>\n",
       "      <th>8247</th>\n",
       "      <td>АЛЫЕ ПАРУСА (Регион)</td>\n",
       "      <td>8247</td>\n",
       "      <td>40</td>\n",
       "    </tr>\n",
       "    <tr>\n",
       "      <th>8248</th>\n",
       "      <td>АЛЫЕ ПАРУСА (регион)</td>\n",
       "      <td>8248</td>\n",
       "      <td>40</td>\n",
       "    </tr>\n",
       "    <tr>\n",
       "      <th>8289</th>\n",
       "      <td>АНГЛИЙСКИЙ ВМЕСТЕ С ХРЮШЕЙ И… ч. 1 (Регион)</td>\n",
       "      <td>8289</td>\n",
       "      <td>40</td>\n",
       "    </tr>\n",
       "    <tr>\n",
       "      <th>8290</th>\n",
       "      <td>АНГЛИЙСКИЙ ВМЕСТЕ С ХРЮШЕЙ И… ч. 1 (регион)</td>\n",
       "      <td>8290</td>\n",
       "      <td>40</td>\n",
       "    </tr>\n",
       "    <tr>\n",
       "      <th>8298</th>\n",
       "      <td>АНДРЕЙ РУБЛЕВ (Регион)</td>\n",
       "      <td>8298</td>\n",
       "      <td>40</td>\n",
       "    </tr>\n",
       "    <tr>\n",
       "      <th>...</th>\n",
       "      <td>...</td>\n",
       "      <td>...</td>\n",
       "      <td>...</td>\n",
       "    </tr>\n",
       "    <tr>\n",
       "      <th>21850</th>\n",
       "      <td>ШЕРЛОК ХОЛМС И ДОКТОР ВАТСОН (регион)</td>\n",
       "      <td>21850</td>\n",
       "      <td>40</td>\n",
       "    </tr>\n",
       "    <tr>\n",
       "      <th>21869</th>\n",
       "      <td>ШИРЛИ-МЫРЛИ (Регион)</td>\n",
       "      <td>21869</td>\n",
       "      <td>40</td>\n",
       "    </tr>\n",
       "    <tr>\n",
       "      <th>21870</th>\n",
       "      <td>ШИРЛИ-МЫРЛИ (регион)</td>\n",
       "      <td>21870</td>\n",
       "      <td>40</td>\n",
       "    </tr>\n",
       "    <tr>\n",
       "      <th>22023</th>\n",
       "      <td>ЭКИПАЖ (Регион)</td>\n",
       "      <td>22023</td>\n",
       "      <td>40</td>\n",
       "    </tr>\n",
       "    <tr>\n",
       "      <th>22024</th>\n",
       "      <td>ЭКИПАЖ (регион)</td>\n",
       "      <td>22024</td>\n",
       "      <td>40</td>\n",
       "    </tr>\n",
       "  </tbody>\n",
       "</table>\n",
       "<p>118 rows × 3 columns</p>\n",
       "</div>"
      ],
      "text/plain": [
       "                                         item_name  item_id  item_category_id\n",
       "8247                          АЛЫЕ ПАРУСА (Регион)     8247                40\n",
       "8248                          АЛЫЕ ПАРУСА (регион)     8248                40\n",
       "8289   АНГЛИЙСКИЙ ВМЕСТЕ С ХРЮШЕЙ И… ч. 1 (Регион)     8289                40\n",
       "8290   АНГЛИЙСКИЙ ВМЕСТЕ С ХРЮШЕЙ И… ч. 1 (регион)     8290                40\n",
       "8298                        АНДРЕЙ РУБЛЕВ (Регион)     8298                40\n",
       "...                                            ...      ...               ...\n",
       "21850        ШЕРЛОК ХОЛМС И ДОКТОР ВАТСОН (регион)    21850                40\n",
       "21869                         ШИРЛИ-МЫРЛИ (Регион)    21869                40\n",
       "21870                         ШИРЛИ-МЫРЛИ (регион)    21870                40\n",
       "22023                              ЭКИПАЖ (Регион)    22023                40\n",
       "22024                              ЭКИПАЖ (регион)    22024                40\n",
       "\n",
       "[118 rows x 3 columns]"
      ]
     },
     "execution_count": 198,
     "metadata": {},
     "output_type": "execute_result"
    }
   ],
   "source": [
    "same_items"
   ]
  },
  {
   "cell_type": "code",
   "execution_count": 199,
   "id": "b1647a24",
   "metadata": {},
   "outputs": [],
   "source": [
    "same_items_upper_case = same_items[same_items.item_name.str.endswith('(Регион)')]\n",
    "same_items_lower_case = same_items[same_items.item_name.str.endswith('(регион)')]"
   ]
  },
  {
   "cell_type": "code",
   "execution_count": 245,
   "id": "f3bfcead",
   "metadata": {},
   "outputs": [],
   "source": [
    "assert (len(same_items_upper_case) + len(same_items_lower_case) == len(same_items))"
   ]
  },
  {
   "cell_type": "code",
   "execution_count": null,
   "id": "0f1020ec",
   "metadata": {},
   "outputs": [],
   "source": []
  },
  {
   "cell_type": "code",
   "execution_count": 242,
   "id": "ac0042a0",
   "metadata": {},
   "outputs": [],
   "source": [
    "shops_upper_case = sales_train[sales_train.item_id.isin(same_items_upper_case.item_id)].shop_id.unique()\n",
    "shops_lower_case = sales_train[sales_train.item_id.isin(same_items_lower_case.item_id)].shop_id.unique()\n",
    "\n",
    "shops_upper_case.sort()\n",
    "shops_lower_case.sort()"
   ]
  },
  {
   "cell_type": "code",
   "execution_count": 246,
   "id": "e2f506f5",
   "metadata": {},
   "outputs": [],
   "source": [
    "assert (np.array_equal(shops_upper_case, shops_lower_case))"
   ]
  },
  {
   "cell_type": "markdown",
   "id": "0a37b5b0",
   "metadata": {},
   "source": [
    "Shops that uses different case regions is the same, thus we can assume, that this does not reflects any geological standing. With that, we can merge products together"
   ]
  },
  {
   "cell_type": "code",
   "execution_count": 203,
   "id": "5ebf3c50",
   "metadata": {},
   "outputs": [],
   "source": [
    "assert (same_items_upper_case.item_id.values == same_items_lower_case.item_id.map(lambda x: x - 1).values).all()"
   ]
  },
  {
   "cell_type": "markdown",
   "id": "9521f65d",
   "metadata": {},
   "source": [
    "Our upper case items differ from lower case items by 1"
   ]
  },
  {
   "cell_type": "code",
   "execution_count": 204,
   "id": "58a31efa",
   "metadata": {},
   "outputs": [],
   "source": [
    "items = items[~items.item_id.isin(same_items_lower_case.item_id)]"
   ]
  },
  {
   "cell_type": "code",
   "execution_count": 205,
   "id": "cd65b5b4",
   "metadata": {},
   "outputs": [],
   "source": [
    "sales_train.loc[sales_train.item_id.isin(same_items_lower_case.item_id), 'item_id'] = \\\n",
    "    sales_train[sales_train.item_id.isin(same_items_lower_case.item_id)].item_id.map(lambda x: x - 1)"
   ]
  },
  {
   "cell_type": "code",
   "execution_count": 206,
   "id": "c8b1bf6d",
   "metadata": {},
   "outputs": [],
   "source": [
    "test.loc[test.item_id.isin(same_items_lower_case.item_id), 'item_id'] = \\\n",
    "    test[test.item_id.isin(same_items_lower_case.item_id)].item_id.map(lambda x: x - 1)"
   ]
  },
  {
   "cell_type": "code",
   "execution_count": 207,
   "id": "75e53256",
   "metadata": {},
   "outputs": [],
   "source": []
  },
  {
   "cell_type": "code",
   "execution_count": 208,
   "id": "c2436656",
   "metadata": {},
   "outputs": [
    {
     "data": {
      "text/html": [
       "<div>\n",
       "<style scoped>\n",
       "    .dataframe tbody tr th:only-of-type {\n",
       "        vertical-align: middle;\n",
       "    }\n",
       "\n",
       "    .dataframe tbody tr th {\n",
       "        vertical-align: top;\n",
       "    }\n",
       "\n",
       "    .dataframe thead th {\n",
       "        text-align: right;\n",
       "    }\n",
       "</style>\n",
       "<table border=\"1\" class=\"dataframe\">\n",
       "  <thead>\n",
       "    <tr style=\"text-align: right;\">\n",
       "      <th></th>\n",
       "      <th>item_name</th>\n",
       "      <th>item_id</th>\n",
       "      <th>item_category_id</th>\n",
       "    </tr>\n",
       "  </thead>\n",
       "  <tbody>\n",
       "    <tr>\n",
       "      <th>13012</th>\n",
       "      <td>КТО Я?</td>\n",
       "      <td>13012</td>\n",
       "      <td>40</td>\n",
       "    </tr>\n",
       "  </tbody>\n",
       "</table>\n",
       "</div>"
      ],
      "text/plain": [
       "      item_name  item_id  item_category_id\n",
       "13012    КТО Я?    13012                40"
      ]
     },
     "execution_count": 208,
     "metadata": {},
     "output_type": "execute_result"
    }
   ],
   "source": [
    "items[items.item_name.apply(lambda x: x.strip(string.punctuation + ' ')).duplicated()]"
   ]
  },
  {
   "cell_type": "code",
   "execution_count": 209,
   "id": "e4276f0c",
   "metadata": {},
   "outputs": [
    {
     "data": {
      "text/html": [
       "<div>\n",
       "<style scoped>\n",
       "    .dataframe tbody tr th:only-of-type {\n",
       "        vertical-align: middle;\n",
       "    }\n",
       "\n",
       "    .dataframe tbody tr th {\n",
       "        vertical-align: top;\n",
       "    }\n",
       "\n",
       "    .dataframe thead th {\n",
       "        text-align: right;\n",
       "    }\n",
       "</style>\n",
       "<table border=\"1\" class=\"dataframe\">\n",
       "  <thead>\n",
       "    <tr style=\"text-align: right;\">\n",
       "      <th></th>\n",
       "      <th>item_name</th>\n",
       "      <th>item_id</th>\n",
       "      <th>item_category_id</th>\n",
       "    </tr>\n",
       "  </thead>\n",
       "  <tbody>\n",
       "    <tr>\n",
       "      <th>13011</th>\n",
       "      <td>КТО Я</td>\n",
       "      <td>13011</td>\n",
       "      <td>40</td>\n",
       "    </tr>\n",
       "    <tr>\n",
       "      <th>13012</th>\n",
       "      <td>КТО Я?</td>\n",
       "      <td>13012</td>\n",
       "      <td>40</td>\n",
       "    </tr>\n",
       "  </tbody>\n",
       "</table>\n",
       "</div>"
      ],
      "text/plain": [
       "      item_name  item_id  item_category_id\n",
       "13011     КТО Я    13011                40\n",
       "13012    КТО Я?    13012                40"
      ]
     },
     "execution_count": 209,
     "metadata": {},
     "output_type": "execute_result"
    }
   ],
   "source": [
    "items[items.item_name.str.contains('КТО Я')]"
   ]
  },
  {
   "cell_type": "code",
   "execution_count": 216,
   "id": "2c8e192c",
   "metadata": {},
   "outputs": [
    {
     "name": "stdout",
     "output_type": "stream",
     "text": [
      "Number of duplicated variations of the item:\n",
      "45\n",
      "3\n",
      "42\n",
      "0\n"
     ]
    }
   ],
   "source": [
    "print('Number of duplicated variations of the item:')\n",
    "\n",
    "print(len(sales_train[sales_train.item_id == 13011]))\n",
    "print(len(sales_train[sales_train.item_id == 13012]))\n",
    "\n",
    "print(len(test[test.item_id == 13011]))\n",
    "print(len(test[test.item_id == 13012]))"
   ]
  },
  {
   "cell_type": "markdown",
   "id": "8e14b0c5",
   "metadata": {},
   "source": [
    "We can map it to one item without punctiation"
   ]
  },
  {
   "cell_type": "code",
   "execution_count": 217,
   "id": "23f19027",
   "metadata": {},
   "outputs": [],
   "source": [
    "items = items[items.item_id != 13012]"
   ]
  },
  {
   "cell_type": "code",
   "execution_count": 218,
   "id": "0465a71a",
   "metadata": {},
   "outputs": [],
   "source": [
    "sales_train.loc[sales_train.item_id == 13012, 'item_id'] = 13011\n",
    "test.loc[test.item_id == 13012, 'item_id'] = 13011"
   ]
  },
  {
   "cell_type": "markdown",
   "id": "18c630d0",
   "metadata": {},
   "source": [
    "### Item category"
   ]
  },
  {
   "cell_type": "code",
   "execution_count": 219,
   "id": "cd8e4981",
   "metadata": {},
   "outputs": [],
   "source": [
    "item_categories = data['item_categories.csv'].copy()"
   ]
  },
  {
   "cell_type": "code",
   "execution_count": 220,
   "id": "7fac2f52",
   "metadata": {},
   "outputs": [
    {
     "data": {
      "text/html": [
       "<div>\n",
       "<style scoped>\n",
       "    .dataframe tbody tr th:only-of-type {\n",
       "        vertical-align: middle;\n",
       "    }\n",
       "\n",
       "    .dataframe tbody tr th {\n",
       "        vertical-align: top;\n",
       "    }\n",
       "\n",
       "    .dataframe thead th {\n",
       "        text-align: right;\n",
       "    }\n",
       "</style>\n",
       "<table border=\"1\" class=\"dataframe\">\n",
       "  <thead>\n",
       "    <tr style=\"text-align: right;\">\n",
       "      <th></th>\n",
       "      <th>item_category_name</th>\n",
       "      <th>item_category_id</th>\n",
       "    </tr>\n",
       "  </thead>\n",
       "  <tbody>\n",
       "    <tr>\n",
       "      <th>0</th>\n",
       "      <td>PC - Гарнитуры/Наушники</td>\n",
       "      <td>0</td>\n",
       "    </tr>\n",
       "    <tr>\n",
       "      <th>1</th>\n",
       "      <td>Аксессуары - PS2</td>\n",
       "      <td>1</td>\n",
       "    </tr>\n",
       "    <tr>\n",
       "      <th>2</th>\n",
       "      <td>Аксессуары - PS3</td>\n",
       "      <td>2</td>\n",
       "    </tr>\n",
       "    <tr>\n",
       "      <th>3</th>\n",
       "      <td>Аксессуары - PS4</td>\n",
       "      <td>3</td>\n",
       "    </tr>\n",
       "    <tr>\n",
       "      <th>4</th>\n",
       "      <td>Аксессуары - PSP</td>\n",
       "      <td>4</td>\n",
       "    </tr>\n",
       "    <tr>\n",
       "      <th>...</th>\n",
       "      <td>...</td>\n",
       "      <td>...</td>\n",
       "    </tr>\n",
       "    <tr>\n",
       "      <th>79</th>\n",
       "      <td>Служебные</td>\n",
       "      <td>79</td>\n",
       "    </tr>\n",
       "    <tr>\n",
       "      <th>80</th>\n",
       "      <td>Служебные - Билеты</td>\n",
       "      <td>80</td>\n",
       "    </tr>\n",
       "    <tr>\n",
       "      <th>81</th>\n",
       "      <td>Чистые носители (шпиль)</td>\n",
       "      <td>81</td>\n",
       "    </tr>\n",
       "    <tr>\n",
       "      <th>82</th>\n",
       "      <td>Чистые носители (штучные)</td>\n",
       "      <td>82</td>\n",
       "    </tr>\n",
       "    <tr>\n",
       "      <th>83</th>\n",
       "      <td>Элементы питания</td>\n",
       "      <td>83</td>\n",
       "    </tr>\n",
       "  </tbody>\n",
       "</table>\n",
       "<p>84 rows × 2 columns</p>\n",
       "</div>"
      ],
      "text/plain": [
       "           item_category_name  item_category_id\n",
       "0     PC - Гарнитуры/Наушники                 0\n",
       "1            Аксессуары - PS2                 1\n",
       "2            Аксессуары - PS3                 2\n",
       "3            Аксессуары - PS4                 3\n",
       "4            Аксессуары - PSP                 4\n",
       "..                        ...               ...\n",
       "79                  Служебные                79\n",
       "80         Служебные - Билеты                80\n",
       "81    Чистые носители (шпиль)                81\n",
       "82  Чистые носители (штучные)                82\n",
       "83           Элементы питания                83\n",
       "\n",
       "[84 rows x 2 columns]"
      ]
     },
     "execution_count": 220,
     "metadata": {},
     "output_type": "execute_result"
    }
   ],
   "source": [
    "item_categories"
   ]
  },
  {
   "cell_type": "code",
   "execution_count": 221,
   "id": "a14e1213",
   "metadata": {},
   "outputs": [],
   "source": [
    "assert(len(item_categories)\n",
    "       == item_categories.item_category_id.nunique() \n",
    "       == item_categories.item_category_name.map(lambda x: x.lower()).nunique())"
   ]
  },
  {
   "cell_type": "code",
   "execution_count": 222,
   "id": "ffface42",
   "metadata": {},
   "outputs": [
    {
     "data": {
      "text/html": [
       "<div>\n",
       "<style scoped>\n",
       "    .dataframe tbody tr th:only-of-type {\n",
       "        vertical-align: middle;\n",
       "    }\n",
       "\n",
       "    .dataframe tbody tr th {\n",
       "        vertical-align: top;\n",
       "    }\n",
       "\n",
       "    .dataframe thead th {\n",
       "        text-align: right;\n",
       "    }\n",
       "</style>\n",
       "<table border=\"1\" class=\"dataframe\">\n",
       "  <thead>\n",
       "    <tr style=\"text-align: right;\">\n",
       "      <th></th>\n",
       "      <th>item_category_name</th>\n",
       "      <th>item_category_id</th>\n",
       "    </tr>\n",
       "  </thead>\n",
       "  <tbody>\n",
       "  </tbody>\n",
       "</table>\n",
       "</div>"
      ],
      "text/plain": [
       "Empty DataFrame\n",
       "Columns: [item_category_name, item_category_id]\n",
       "Index: []"
      ]
     },
     "execution_count": 222,
     "metadata": {},
     "output_type": "execute_result"
    }
   ],
   "source": [
    "item_categories[item_categories.item_category_name.apply(lambda x: x.strip(string.punctuation + ' ')).duplicated()]"
   ]
  },
  {
   "cell_type": "markdown",
   "id": "28aa935c",
   "metadata": {},
   "source": [
    "There is no obvious dupicates in the table"
   ]
  },
  {
   "cell_type": "code",
   "execution_count": 223,
   "id": "733f26b4",
   "metadata": {},
   "outputs": [
    {
     "data": {
      "text/html": [
       "<div>\n",
       "<style scoped>\n",
       "    .dataframe tbody tr th:only-of-type {\n",
       "        vertical-align: middle;\n",
       "    }\n",
       "\n",
       "    .dataframe tbody tr th {\n",
       "        vertical-align: top;\n",
       "    }\n",
       "\n",
       "    .dataframe thead th {\n",
       "        text-align: right;\n",
       "    }\n",
       "</style>\n",
       "<table border=\"1\" class=\"dataframe\">\n",
       "  <thead>\n",
       "    <tr style=\"text-align: right;\">\n",
       "      <th></th>\n",
       "      <th>date</th>\n",
       "      <th>date_block_num</th>\n",
       "      <th>shop_id</th>\n",
       "      <th>item_id</th>\n",
       "      <th>item_price</th>\n",
       "      <th>item_cnt_day</th>\n",
       "      <th>month</th>\n",
       "      <th>total_item_cost</th>\n",
       "      <th>item_name</th>\n",
       "      <th>item_category_id</th>\n",
       "      <th>item_category_name</th>\n",
       "    </tr>\n",
       "  </thead>\n",
       "  <tbody>\n",
       "    <tr>\n",
       "      <th>0</th>\n",
       "      <td>2013-02-01</td>\n",
       "      <td>0</td>\n",
       "      <td>59</td>\n",
       "      <td>22154</td>\n",
       "      <td>999.0</td>\n",
       "      <td>1.0</td>\n",
       "      <td>2013-02</td>\n",
       "      <td>999.0</td>\n",
       "      <td>ЯВЛЕНИЕ 2012 (BD)</td>\n",
       "      <td>37</td>\n",
       "      <td>Кино - Blu-Ray</td>\n",
       "    </tr>\n",
       "    <tr>\n",
       "      <th>1</th>\n",
       "      <td>2013-01-23</td>\n",
       "      <td>0</td>\n",
       "      <td>24</td>\n",
       "      <td>22154</td>\n",
       "      <td>999.0</td>\n",
       "      <td>1.0</td>\n",
       "      <td>2013-01</td>\n",
       "      <td>999.0</td>\n",
       "      <td>ЯВЛЕНИЕ 2012 (BD)</td>\n",
       "      <td>37</td>\n",
       "      <td>Кино - Blu-Ray</td>\n",
       "    </tr>\n",
       "    <tr>\n",
       "      <th>2</th>\n",
       "      <td>2013-01-20</td>\n",
       "      <td>0</td>\n",
       "      <td>27</td>\n",
       "      <td>22154</td>\n",
       "      <td>999.0</td>\n",
       "      <td>1.0</td>\n",
       "      <td>2013-01</td>\n",
       "      <td>999.0</td>\n",
       "      <td>ЯВЛЕНИЕ 2012 (BD)</td>\n",
       "      <td>37</td>\n",
       "      <td>Кино - Blu-Ray</td>\n",
       "    </tr>\n",
       "    <tr>\n",
       "      <th>3</th>\n",
       "      <td>2013-02-01</td>\n",
       "      <td>0</td>\n",
       "      <td>25</td>\n",
       "      <td>22154</td>\n",
       "      <td>999.0</td>\n",
       "      <td>1.0</td>\n",
       "      <td>2013-02</td>\n",
       "      <td>999.0</td>\n",
       "      <td>ЯВЛЕНИЕ 2012 (BD)</td>\n",
       "      <td>37</td>\n",
       "      <td>Кино - Blu-Ray</td>\n",
       "    </tr>\n",
       "    <tr>\n",
       "      <th>4</th>\n",
       "      <td>2013-03-01</td>\n",
       "      <td>0</td>\n",
       "      <td>25</td>\n",
       "      <td>22154</td>\n",
       "      <td>999.0</td>\n",
       "      <td>1.0</td>\n",
       "      <td>2013-03</td>\n",
       "      <td>999.0</td>\n",
       "      <td>ЯВЛЕНИЕ 2012 (BD)</td>\n",
       "      <td>37</td>\n",
       "      <td>Кино - Blu-Ray</td>\n",
       "    </tr>\n",
       "  </tbody>\n",
       "</table>\n",
       "</div>"
      ],
      "text/plain": [
       "        date  date_block_num  shop_id item_id  item_price  item_cnt_day  \\\n",
       "0 2013-02-01               0       59   22154       999.0           1.0   \n",
       "1 2013-01-23               0       24   22154       999.0           1.0   \n",
       "2 2013-01-20               0       27   22154       999.0           1.0   \n",
       "3 2013-02-01               0       25   22154       999.0           1.0   \n",
       "4 2013-03-01               0       25   22154       999.0           1.0   \n",
       "\n",
       "     month  total_item_cost          item_name  item_category_id  \\\n",
       "0  2013-02            999.0  ЯВЛЕНИЕ 2012 (BD)                37   \n",
       "1  2013-01            999.0  ЯВЛЕНИЕ 2012 (BD)                37   \n",
       "2  2013-01            999.0  ЯВЛЕНИЕ 2012 (BD)                37   \n",
       "3  2013-02            999.0  ЯВЛЕНИЕ 2012 (BD)                37   \n",
       "4  2013-03            999.0  ЯВЛЕНИЕ 2012 (BD)                37   \n",
       "\n",
       "  item_category_name  \n",
       "0     Кино - Blu-Ray  \n",
       "1     Кино - Blu-Ray  \n",
       "2     Кино - Blu-Ray  \n",
       "3     Кино - Blu-Ray  \n",
       "4     Кино - Blu-Ray  "
      ]
     },
     "execution_count": 223,
     "metadata": {},
     "output_type": "execute_result"
    }
   ],
   "source": [
    "sales_train = pd.merge(sales_train, items, on='item_id', how='inner')\n",
    "sales_train = pd.merge(sales_train, item_categories, on='item_category_id', how='inner')\n",
    "sales_train.head()"
   ]
  },
  {
   "cell_type": "code",
   "execution_count": 224,
   "id": "95e17e96",
   "metadata": {},
   "outputs": [
    {
     "data": {
      "text/plain": [
       "date                  0\n",
       "date_block_num        0\n",
       "shop_id               0\n",
       "item_id               0\n",
       "item_price            0\n",
       "item_cnt_day          0\n",
       "month                 0\n",
       "total_item_cost       0\n",
       "item_name             0\n",
       "item_category_id      0\n",
       "item_category_name    0\n",
       "dtype: int64"
      ]
     },
     "execution_count": 224,
     "metadata": {},
     "output_type": "execute_result"
    }
   ],
   "source": [
    "sales_train.isna().sum()"
   ]
  },
  {
   "cell_type": "code",
   "execution_count": 225,
   "id": "9334ef3a",
   "metadata": {},
   "outputs": [
    {
     "data": {
      "text/plain": [
       "0"
      ]
     },
     "execution_count": 225,
     "metadata": {},
     "output_type": "execute_result"
    }
   ],
   "source": [
    "unique_item_category = sales_train[[\"item_id\", \"item_category_id\"]].groupby([\"item_id\"]).nunique(\"item_category_id\")\n",
    "len(unique_item_category[unique_item_category.item_category_id > 1])"
   ]
  },
  {
   "cell_type": "markdown",
   "id": "69c16ab9",
   "metadata": {},
   "source": [
    "Each item in trainig belong to only one category"
   ]
  },
  {
   "cell_type": "code",
   "execution_count": null,
   "id": "f0dcafdd",
   "metadata": {},
   "outputs": [],
   "source": []
  },
  {
   "cell_type": "code",
   "execution_count": 226,
   "id": "ddf9ff6b",
   "metadata": {},
   "outputs": [
    {
     "name": "stdout",
     "output_type": "stream",
     "text": [
      "Number of unique categories in traing:  84\n"
     ]
    }
   ],
   "source": [
    "print('Number of unique categories in traing: ', sales_train.item_category_id.nunique())"
   ]
  },
  {
   "cell_type": "code",
   "execution_count": 227,
   "id": "463ca9f4",
   "metadata": {},
   "outputs": [],
   "source": [
    "test_with_cat = pd.merge(test, items, on='item_id', how='inner')"
   ]
  },
  {
   "cell_type": "code",
   "execution_count": 228,
   "id": "de5aa5d1",
   "metadata": {},
   "outputs": [
    {
     "name": "stdout",
     "output_type": "stream",
     "text": [
      "Number of unique categories in traing:  62\n"
     ]
    }
   ],
   "source": [
    "print('Number of unique categories in traing: ', test_with_cat.item_category_id.nunique())"
   ]
  },
  {
   "cell_type": "code",
   "execution_count": 229,
   "id": "56acd309",
   "metadata": {},
   "outputs": [],
   "source": [
    "missing_categories = [c for c in test_with_cat[\"item_category_id\"].unique() \\\n",
    "                      if c not in sales_train[\"item_category_id\"].unique()]\n",
    "\n",
    "missing_categories_test = [c for c in sales_train[\"item_category_id\"].unique() \\\n",
    "                           if c not in test_with_cat[\"item_category_id\"].unique()]"
   ]
  },
  {
   "cell_type": "code",
   "execution_count": 230,
   "id": "f703897a",
   "metadata": {},
   "outputs": [
    {
     "name": "stdout",
     "output_type": "stream",
     "text": [
      "Number of missing categories in train:  0\n",
      "Number of missing categories in test:  22\n"
     ]
    }
   ],
   "source": [
    "print('Number of missing categories in train: ', len(missing_categories))\n",
    "print('Number of missing categories in test: ', len(missing_categories_test))"
   ]
  },
  {
   "cell_type": "code",
   "execution_count": 231,
   "id": "62473cac",
   "metadata": {},
   "outputs": [],
   "source": [
    "categories_info = pd.DataFrame(columns=['first_sale', 'last_sale', 'min_price',\n",
    "                                       'max_price', 'mean_price', 'median_price',\n",
    "                                       'mean_item_cnt', 'median_item_cnt',\n",
    "                                       'mean_item_cnt_jan', 'mean_item_cnt_feb',\n",
    "                                       'mean_item_cnt_mar', 'mean_item_cnt_apr',\n",
    "                                       'mean_item_cnt_may', 'mean_item_cnt_jun',\n",
    "                                       'mean_item_cnt_jul', 'mean_item_cnt_aug',\n",
    "                                       'mean_item_cnt_sep', 'mean_item_cnt_oct',\n",
    "                                       'mean_item_cnt_nov', 'mean_item_cnt_dec'],\n",
    "                              index=item_categories.item_category_id)"
   ]
  },
  {
   "cell_type": "code",
   "execution_count": 232,
   "id": "d967001b",
   "metadata": {},
   "outputs": [],
   "source": [
    "month_mapping = {1: \"mean_item_cnt_jan\", 2: \"mean_item_cnt_feb\", 3: \"mean_item_cnt_mar\",\n",
    "                 4: \"mean_item_cnt_apr\", 5: \"mean_item_cnt_may\", 6: \"mean_item_cnt_jun\",\n",
    "                 7: \"mean_item_cnt_jul\", 8: \"mean_item_cnt_aug\", 9: \"mean_item_cnt_sep\",\n",
    "                 10: \"mean_item_cnt_oct\", 11: \"mean_item_cnt_nov\", 12: \"mean_item_cnt_dec\"}"
   ]
  },
  {
   "cell_type": "code",
   "execution_count": 233,
   "id": "b7c51a64",
   "metadata": {},
   "outputs": [],
   "source": [
    "for cat in categories_info.index:\n",
    "    \n",
    "    sales_train_cat = sales_train[sales_train.item_category_id == cat].copy()\n",
    "    \n",
    "    categories_info.loc[cat, 'first_sale'] = sales_train_cat.date.min()\n",
    "    categories_info.loc[cat, 'last_sale'] = sales_train_cat.date.max()\n",
    "    \n",
    "    categories_info.loc[cat, 'min_price'] = sales_train_cat.item_price.min()\n",
    "    categories_info.loc[cat, 'max_price'] = sales_train_cat.item_price.max()\n",
    "    categories_info.loc[cat, 'mean_price'] = sales_train_cat.item_price.mean()\n",
    "    categories_info.loc[cat, 'median_price'] = sales_train_cat.item_price.median()\n",
    "    \n",
    "    sales_train_cat = sales_train_cat[[\"date\", \"item_cnt_day\", \"total_item_cost\"]].groupby(\n",
    "        sales_train_cat.month.astype('datetime64')).sum().reset_index()\n",
    "    \n",
    "    sales_train_cat = sales_train_cat.groupby(sales_train_cat[\"month\"].dt.month).mean().reset_index()\n",
    "    \n",
    "    categories_info.loc[cat, 'mean_item_cnt'] = sales_train_cat.item_cnt_day.mean()\n",
    "    categories_info.loc[cat, 'median_item_cnt'] = sales_train_cat.item_cnt_day.median()\n",
    "    \n",
    "    for month in sales_train_cat.month:\n",
    "        categories_info.loc[cat, month_mapping[month]] = \\\n",
    "            sales_train_cat[sales_train_cat.month == month].item_cnt_day.values[0]"
   ]
  },
  {
   "cell_type": "code",
   "execution_count": 234,
   "id": "71c9f819",
   "metadata": {},
   "outputs": [],
   "source": [
    "categories_info = categories_info.fillna(0)"
   ]
  },
  {
   "cell_type": "code",
   "execution_count": 235,
   "id": "81f778f7",
   "metadata": {},
   "outputs": [
    {
     "data": {
      "text/html": [
       "<div>\n",
       "<style scoped>\n",
       "    .dataframe tbody tr th:only-of-type {\n",
       "        vertical-align: middle;\n",
       "    }\n",
       "\n",
       "    .dataframe tbody tr th {\n",
       "        vertical-align: top;\n",
       "    }\n",
       "\n",
       "    .dataframe thead th {\n",
       "        text-align: right;\n",
       "    }\n",
       "</style>\n",
       "<table border=\"1\" class=\"dataframe\">\n",
       "  <thead>\n",
       "    <tr style=\"text-align: right;\">\n",
       "      <th></th>\n",
       "      <th>first_sale</th>\n",
       "      <th>last_sale</th>\n",
       "      <th>min_price</th>\n",
       "      <th>max_price</th>\n",
       "      <th>mean_price</th>\n",
       "      <th>median_price</th>\n",
       "      <th>mean_item_cnt</th>\n",
       "      <th>median_item_cnt</th>\n",
       "      <th>mean_item_cnt_jan</th>\n",
       "      <th>mean_item_cnt_feb</th>\n",
       "      <th>mean_item_cnt_mar</th>\n",
       "      <th>mean_item_cnt_apr</th>\n",
       "      <th>mean_item_cnt_may</th>\n",
       "      <th>mean_item_cnt_jun</th>\n",
       "      <th>mean_item_cnt_jul</th>\n",
       "      <th>mean_item_cnt_aug</th>\n",
       "      <th>mean_item_cnt_sep</th>\n",
       "      <th>mean_item_cnt_oct</th>\n",
       "      <th>mean_item_cnt_nov</th>\n",
       "      <th>mean_item_cnt_dec</th>\n",
       "    </tr>\n",
       "    <tr>\n",
       "      <th>item_category_id</th>\n",
       "      <th></th>\n",
       "      <th></th>\n",
       "      <th></th>\n",
       "      <th></th>\n",
       "      <th></th>\n",
       "      <th></th>\n",
       "      <th></th>\n",
       "      <th></th>\n",
       "      <th></th>\n",
       "      <th></th>\n",
       "      <th></th>\n",
       "      <th></th>\n",
       "      <th></th>\n",
       "      <th></th>\n",
       "      <th></th>\n",
       "      <th></th>\n",
       "      <th></th>\n",
       "      <th></th>\n",
       "      <th></th>\n",
       "      <th></th>\n",
       "    </tr>\n",
       "  </thead>\n",
       "  <tbody>\n",
       "    <tr>\n",
       "      <th>0</th>\n",
       "      <td>2013-02-04</td>\n",
       "      <td>2013-10-01</td>\n",
       "      <td>22.40</td>\n",
       "      <td>148.0</td>\n",
       "      <td>87.800000</td>\n",
       "      <td>93.0</td>\n",
       "      <td>1.500000</td>\n",
       "      <td>1.500000</td>\n",
       "      <td>0.000000</td>\n",
       "      <td>2.000000</td>\n",
       "      <td>0.000000</td>\n",
       "      <td>0.000000</td>\n",
       "      <td>0.000000</td>\n",
       "      <td>0.000000</td>\n",
       "      <td>0.000000</td>\n",
       "      <td>0.000000</td>\n",
       "      <td>0.000000</td>\n",
       "      <td>1.000000</td>\n",
       "      <td>0.0</td>\n",
       "      <td>0.0</td>\n",
       "    </tr>\n",
       "    <tr>\n",
       "      <th>1</th>\n",
       "      <td>2013-02-20</td>\n",
       "      <td>2013-10-01</td>\n",
       "      <td>148.00</td>\n",
       "      <td>283.0</td>\n",
       "      <td>215.500000</td>\n",
       "      <td>215.5</td>\n",
       "      <td>1.000000</td>\n",
       "      <td>1.000000</td>\n",
       "      <td>0.000000</td>\n",
       "      <td>1.000000</td>\n",
       "      <td>0.000000</td>\n",
       "      <td>0.000000</td>\n",
       "      <td>0.000000</td>\n",
       "      <td>0.000000</td>\n",
       "      <td>0.000000</td>\n",
       "      <td>0.000000</td>\n",
       "      <td>0.000000</td>\n",
       "      <td>1.000000</td>\n",
       "      <td>0.0</td>\n",
       "      <td>0.0</td>\n",
       "    </tr>\n",
       "    <tr>\n",
       "      <th>2</th>\n",
       "      <td>2013-01-01</td>\n",
       "      <td>2015-10-30</td>\n",
       "      <td>93.00</td>\n",
       "      <td>5990.0</td>\n",
       "      <td>2164.435073</td>\n",
       "      <td>2390.0</td>\n",
       "      <td>582.375000</td>\n",
       "      <td>461.000000</td>\n",
       "      <td>625.666667</td>\n",
       "      <td>695.333333</td>\n",
       "      <td>593.000000</td>\n",
       "      <td>448.333333</td>\n",
       "      <td>444.333333</td>\n",
       "      <td>462.000000</td>\n",
       "      <td>450.666667</td>\n",
       "      <td>457.666667</td>\n",
       "      <td>460.000000</td>\n",
       "      <td>436.000000</td>\n",
       "      <td>555.5</td>\n",
       "      <td>1360.0</td>\n",
       "    </tr>\n",
       "    <tr>\n",
       "      <th>3</th>\n",
       "      <td>2013-01-01</td>\n",
       "      <td>2015-10-31</td>\n",
       "      <td>122.61</td>\n",
       "      <td>5992.0</td>\n",
       "      <td>2089.598363</td>\n",
       "      <td>2090.0</td>\n",
       "      <td>880.875000</td>\n",
       "      <td>763.833333</td>\n",
       "      <td>754.333333</td>\n",
       "      <td>935.000000</td>\n",
       "      <td>705.333333</td>\n",
       "      <td>605.666667</td>\n",
       "      <td>621.666667</td>\n",
       "      <td>675.333333</td>\n",
       "      <td>643.333333</td>\n",
       "      <td>855.000000</td>\n",
       "      <td>884.000000</td>\n",
       "      <td>773.333333</td>\n",
       "      <td>780.5</td>\n",
       "      <td>2337.0</td>\n",
       "    </tr>\n",
       "    <tr>\n",
       "      <th>4</th>\n",
       "      <td>2013-01-01</td>\n",
       "      <td>2015-10-06</td>\n",
       "      <td>22.00</td>\n",
       "      <td>2590.0</td>\n",
       "      <td>554.666422</td>\n",
       "      <td>299.0</td>\n",
       "      <td>71.916667</td>\n",
       "      <td>70.000000</td>\n",
       "      <td>96.666667</td>\n",
       "      <td>90.000000</td>\n",
       "      <td>88.000000</td>\n",
       "      <td>70.333333</td>\n",
       "      <td>71.333333</td>\n",
       "      <td>69.666667</td>\n",
       "      <td>68.000000</td>\n",
       "      <td>58.000000</td>\n",
       "      <td>67.500000</td>\n",
       "      <td>45.000000</td>\n",
       "      <td>50.0</td>\n",
       "      <td>88.5</td>\n",
       "    </tr>\n",
       "    <tr>\n",
       "      <th>...</th>\n",
       "      <td>...</td>\n",
       "      <td>...</td>\n",
       "      <td>...</td>\n",
       "      <td>...</td>\n",
       "      <td>...</td>\n",
       "      <td>...</td>\n",
       "      <td>...</td>\n",
       "      <td>...</td>\n",
       "      <td>...</td>\n",
       "      <td>...</td>\n",
       "      <td>...</td>\n",
       "      <td>...</td>\n",
       "      <td>...</td>\n",
       "      <td>...</td>\n",
       "      <td>...</td>\n",
       "      <td>...</td>\n",
       "      <td>...</td>\n",
       "      <td>...</td>\n",
       "      <td>...</td>\n",
       "      <td>...</td>\n",
       "    </tr>\n",
       "    <tr>\n",
       "      <th>79</th>\n",
       "      <td>2013-01-01</td>\n",
       "      <td>2015-10-31</td>\n",
       "      <td>9.00</td>\n",
       "      <td>5900.0</td>\n",
       "      <td>1072.684794</td>\n",
       "      <td>999.0</td>\n",
       "      <td>421.402778</td>\n",
       "      <td>396.333333</td>\n",
       "      <td>395.666667</td>\n",
       "      <td>352.666667</td>\n",
       "      <td>448.666667</td>\n",
       "      <td>344.000000</td>\n",
       "      <td>320.000000</td>\n",
       "      <td>299.333333</td>\n",
       "      <td>328.333333</td>\n",
       "      <td>397.000000</td>\n",
       "      <td>449.666667</td>\n",
       "      <td>432.000000</td>\n",
       "      <td>578.5</td>\n",
       "      <td>711.0</td>\n",
       "    </tr>\n",
       "    <tr>\n",
       "      <th>80</th>\n",
       "      <td>2015-01-05</td>\n",
       "      <td>2015-10-09</td>\n",
       "      <td>900.00</td>\n",
       "      <td>1700.0</td>\n",
       "      <td>1229.362881</td>\n",
       "      <td>1300.0</td>\n",
       "      <td>220.700000</td>\n",
       "      <td>104.500000</td>\n",
       "      <td>62.000000</td>\n",
       "      <td>61.000000</td>\n",
       "      <td>53.000000</td>\n",
       "      <td>92.000000</td>\n",
       "      <td>117.000000</td>\n",
       "      <td>121.000000</td>\n",
       "      <td>176.000000</td>\n",
       "      <td>388.000000</td>\n",
       "      <td>1047.000000</td>\n",
       "      <td>90.000000</td>\n",
       "      <td>0.0</td>\n",
       "      <td>0.0</td>\n",
       "    </tr>\n",
       "    <tr>\n",
       "      <th>81</th>\n",
       "      <td>2013-01-01</td>\n",
       "      <td>2015-03-26</td>\n",
       "      <td>79.00</td>\n",
       "      <td>599.0</td>\n",
       "      <td>189.151324</td>\n",
       "      <td>149.0</td>\n",
       "      <td>45.541667</td>\n",
       "      <td>42.500000</td>\n",
       "      <td>74.000000</td>\n",
       "      <td>46.500000</td>\n",
       "      <td>36.000000</td>\n",
       "      <td>44.000000</td>\n",
       "      <td>62.000000</td>\n",
       "      <td>41.000000</td>\n",
       "      <td>73.000000</td>\n",
       "      <td>68.000000</td>\n",
       "      <td>35.000000</td>\n",
       "      <td>23.500000</td>\n",
       "      <td>23.5</td>\n",
       "      <td>20.0</td>\n",
       "    </tr>\n",
       "    <tr>\n",
       "      <th>82</th>\n",
       "      <td>2013-01-01</td>\n",
       "      <td>2014-12-05</td>\n",
       "      <td>13.00</td>\n",
       "      <td>70.0</td>\n",
       "      <td>32.628362</td>\n",
       "      <td>30.0</td>\n",
       "      <td>339.666667</td>\n",
       "      <td>389.250000</td>\n",
       "      <td>467.000000</td>\n",
       "      <td>441.000000</td>\n",
       "      <td>445.500000</td>\n",
       "      <td>388.500000</td>\n",
       "      <td>398.000000</td>\n",
       "      <td>410.000000</td>\n",
       "      <td>390.000000</td>\n",
       "      <td>305.500000</td>\n",
       "      <td>239.000000</td>\n",
       "      <td>231.000000</td>\n",
       "      <td>184.5</td>\n",
       "      <td>176.0</td>\n",
       "    </tr>\n",
       "    <tr>\n",
       "      <th>83</th>\n",
       "      <td>2013-01-01</td>\n",
       "      <td>2015-10-31</td>\n",
       "      <td>7.00</td>\n",
       "      <td>210.0</td>\n",
       "      <td>99.795252</td>\n",
       "      <td>99.0</td>\n",
       "      <td>328.347222</td>\n",
       "      <td>333.166667</td>\n",
       "      <td>333.333333</td>\n",
       "      <td>354.666667</td>\n",
       "      <td>333.000000</td>\n",
       "      <td>270.333333</td>\n",
       "      <td>290.333333</td>\n",
       "      <td>345.000000</td>\n",
       "      <td>371.000000</td>\n",
       "      <td>348.333333</td>\n",
       "      <td>274.666667</td>\n",
       "      <td>268.000000</td>\n",
       "      <td>260.5</td>\n",
       "      <td>491.0</td>\n",
       "    </tr>\n",
       "  </tbody>\n",
       "</table>\n",
       "<p>84 rows × 20 columns</p>\n",
       "</div>"
      ],
      "text/plain": [
       "                 first_sale  last_sale  min_price  max_price   mean_price  \\\n",
       "item_category_id                                                            \n",
       "0                2013-02-04 2013-10-01      22.40      148.0    87.800000   \n",
       "1                2013-02-20 2013-10-01     148.00      283.0   215.500000   \n",
       "2                2013-01-01 2015-10-30      93.00     5990.0  2164.435073   \n",
       "3                2013-01-01 2015-10-31     122.61     5992.0  2089.598363   \n",
       "4                2013-01-01 2015-10-06      22.00     2590.0   554.666422   \n",
       "...                     ...        ...        ...        ...          ...   \n",
       "79               2013-01-01 2015-10-31       9.00     5900.0  1072.684794   \n",
       "80               2015-01-05 2015-10-09     900.00     1700.0  1229.362881   \n",
       "81               2013-01-01 2015-03-26      79.00      599.0   189.151324   \n",
       "82               2013-01-01 2014-12-05      13.00       70.0    32.628362   \n",
       "83               2013-01-01 2015-10-31       7.00      210.0    99.795252   \n",
       "\n",
       "                  median_price  mean_item_cnt  median_item_cnt  \\\n",
       "item_category_id                                                 \n",
       "0                         93.0       1.500000         1.500000   \n",
       "1                        215.5       1.000000         1.000000   \n",
       "2                       2390.0     582.375000       461.000000   \n",
       "3                       2090.0     880.875000       763.833333   \n",
       "4                        299.0      71.916667        70.000000   \n",
       "...                        ...            ...              ...   \n",
       "79                       999.0     421.402778       396.333333   \n",
       "80                      1300.0     220.700000       104.500000   \n",
       "81                       149.0      45.541667        42.500000   \n",
       "82                        30.0     339.666667       389.250000   \n",
       "83                        99.0     328.347222       333.166667   \n",
       "\n",
       "                  mean_item_cnt_jan  mean_item_cnt_feb  mean_item_cnt_mar  \\\n",
       "item_category_id                                                            \n",
       "0                          0.000000           2.000000           0.000000   \n",
       "1                          0.000000           1.000000           0.000000   \n",
       "2                        625.666667         695.333333         593.000000   \n",
       "3                        754.333333         935.000000         705.333333   \n",
       "4                         96.666667          90.000000          88.000000   \n",
       "...                             ...                ...                ...   \n",
       "79                       395.666667         352.666667         448.666667   \n",
       "80                        62.000000          61.000000          53.000000   \n",
       "81                        74.000000          46.500000          36.000000   \n",
       "82                       467.000000         441.000000         445.500000   \n",
       "83                       333.333333         354.666667         333.000000   \n",
       "\n",
       "                  mean_item_cnt_apr  mean_item_cnt_may  mean_item_cnt_jun  \\\n",
       "item_category_id                                                            \n",
       "0                          0.000000           0.000000           0.000000   \n",
       "1                          0.000000           0.000000           0.000000   \n",
       "2                        448.333333         444.333333         462.000000   \n",
       "3                        605.666667         621.666667         675.333333   \n",
       "4                         70.333333          71.333333          69.666667   \n",
       "...                             ...                ...                ...   \n",
       "79                       344.000000         320.000000         299.333333   \n",
       "80                        92.000000         117.000000         121.000000   \n",
       "81                        44.000000          62.000000          41.000000   \n",
       "82                       388.500000         398.000000         410.000000   \n",
       "83                       270.333333         290.333333         345.000000   \n",
       "\n",
       "                  mean_item_cnt_jul  mean_item_cnt_aug  mean_item_cnt_sep  \\\n",
       "item_category_id                                                            \n",
       "0                          0.000000           0.000000           0.000000   \n",
       "1                          0.000000           0.000000           0.000000   \n",
       "2                        450.666667         457.666667         460.000000   \n",
       "3                        643.333333         855.000000         884.000000   \n",
       "4                         68.000000          58.000000          67.500000   \n",
       "...                             ...                ...                ...   \n",
       "79                       328.333333         397.000000         449.666667   \n",
       "80                       176.000000         388.000000        1047.000000   \n",
       "81                        73.000000          68.000000          35.000000   \n",
       "82                       390.000000         305.500000         239.000000   \n",
       "83                       371.000000         348.333333         274.666667   \n",
       "\n",
       "                  mean_item_cnt_oct  mean_item_cnt_nov  mean_item_cnt_dec  \n",
       "item_category_id                                                           \n",
       "0                          1.000000                0.0                0.0  \n",
       "1                          1.000000                0.0                0.0  \n",
       "2                        436.000000              555.5             1360.0  \n",
       "3                        773.333333              780.5             2337.0  \n",
       "4                         45.000000               50.0               88.5  \n",
       "...                             ...                ...                ...  \n",
       "79                       432.000000              578.5              711.0  \n",
       "80                        90.000000                0.0                0.0  \n",
       "81                        23.500000               23.5               20.0  \n",
       "82                       231.000000              184.5              176.0  \n",
       "83                       268.000000              260.5              491.0  \n",
       "\n",
       "[84 rows x 20 columns]"
      ]
     },
     "execution_count": 235,
     "metadata": {},
     "output_type": "execute_result"
    }
   ],
   "source": [
    "categories_info"
   ]
  },
  {
   "cell_type": "code",
   "execution_count": 236,
   "id": "2dda0a41",
   "metadata": {},
   "outputs": [
    {
     "data": {
      "text/plain": [
       "[Text(0.5, 1.0, 'First sale distribution')]"
      ]
     },
     "execution_count": 236,
     "metadata": {},
     "output_type": "execute_result"
    },
    {
     "data": {
      "image/png": "[encoded data removed]",
      "text/plain": [
       "<Figure size 640x480 with 1 Axes>"
      ]
     },
     "metadata": {},
     "output_type": "display_data"
    }
   ],
   "source": [
    "plt.xticks(rotation=90)\n",
    "sns.histplot(data=categories_info, x=pd.to_datetime(categories_info.first_sale, errors='coerce')).set(\n",
    "    title='First sale distribution')"
   ]
  },
  {
   "cell_type": "code",
   "execution_count": 237,
   "id": "e3757641",
   "metadata": {},
   "outputs": [
    {
     "data": {
      "text/plain": [
       "[Text(0.5, 1.0, 'Last sale distribution')]"
      ]
     },
     "execution_count": 237,
     "metadata": {},
     "output_type": "execute_result"
    },
    {
     "data": {
      "image/png": "[encoded data removed]",
      "text/plain": [
       "<Figure size 640x480 with 1 Axes>"
      ]
     },
     "metadata": {},
     "output_type": "display_data"
    }
   ],
   "source": [
    "plt.xticks(rotation=90)\n",
    "sns.histplot(data=categories_info, x=pd.to_datetime(categories_info.last_sale, errors='coerce')).set(\n",
    "    title='Last sale distribution')"
   ]
  },
  {
   "cell_type": "code",
   "execution_count": 238,
   "id": "8dedc905",
   "metadata": {},
   "outputs": [
    {
     "data": {
      "text/plain": [
       "[Text(0.5, 1.0, 'Median price distribution')]"
      ]
     },
     "execution_count": 238,
     "metadata": {},
     "output_type": "execute_result"
    },
    {
     "data": {
      "image/png": "[encoded data removed]",
      "text/plain": [
       "<Figure size 1200x800 with 4 Axes>"
      ]
     },
     "metadata": {},
     "output_type": "display_data"
    }
   ],
   "source": [
    "fig, axs = plt.subplots(ncols=2, nrows=2, figsize=(12, 8))\n",
    "plt.subplots_adjust(wspace = 0.5, hspace=0.5)\n",
    "\n",
    "sns.histplot(data=categories_info, x=categories_info.max_price, ax=axs[0,0], kde=True).set(\n",
    "    title='Max price distribution')\n",
    "\n",
    "sns.histplot(data=categories_info, x=categories_info.min_price, ax=axs[0,1], kde=True).set(\n",
    "    title='Min price distribution')\n",
    "\n",
    "sns.histplot(data=categories_info, x=categories_info.mean_price, ax=axs[1,0], kde=True).set(\n",
    "    title='Mean price distribution')\n",
    "\n",
    "sns.histplot(data=categories_info, x=categories_info.median_price, ax=axs[1,1], kde=True).set(\n",
    "    title='Median price distribution')"
   ]
  },
  {
   "cell_type": "markdown",
   "id": "4aceaee8",
   "metadata": {},
   "source": [
    "## Final data examination"
   ]
  },
  {
   "cell_type": "code",
   "execution_count": 239,
   "id": "9badb5f4",
   "metadata": {},
   "outputs": [],
   "source": [
    "sales_train = pd.merge(sales_train, shops, on='shop_id', how='inner')"
   ]
  },
  {
   "cell_type": "code",
   "execution_count": 240,
   "id": "d3d885a9",
   "metadata": {},
   "outputs": [
    {
     "data": {
      "text/plain": [
       "date                  0\n",
       "date_block_num        0\n",
       "shop_id               0\n",
       "item_id               0\n",
       "item_price            0\n",
       "item_cnt_day          0\n",
       "month                 0\n",
       "total_item_cost       0\n",
       "item_name             0\n",
       "item_category_id      0\n",
       "item_category_name    0\n",
       "shop_name             0\n",
       "city                  0\n",
       "dtype: int64"
      ]
     },
     "execution_count": 240,
     "metadata": {},
     "output_type": "execute_result"
    }
   ],
   "source": [
    "sales_train.isna().sum()"
   ]
  },
  {
   "cell_type": "code",
   "execution_count": null,
   "id": "1a1cbcbb",
   "metadata": {},
   "outputs": [],
   "source": []
  }
 ],
 "metadata": {
  "kernelspec": {
   "display_name": "Python 3 (ipykernel)",
   "language": "python",
   "name": "python3"
  },
  "language_info": {
   "codemirror_mode": {
    "name": "ipython",
    "version": 3
   },
   "file_extension": ".py",
   "mimetype": "text/x-python",
   "name": "python",
   "nbconvert_exporter": "python",
   "pygments_lexer": "ipython3",
   "version": "3.9.12"
  }
 },
 "nbformat": 4,
 "nbformat_minor": 5
}
